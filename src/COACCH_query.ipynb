{
 "cells": [
  {
   "cell_type": "code",
   "execution_count": 34,
   "id": "24fee5df",
   "metadata": {},
   "outputs": [],
   "source": [
    "import json\n",
    "import os\n",
    "import requests\n",
    "import time\n",
    "import urllib\n",
    "import yaml"
   ]
  },
  {
   "cell_type": "markdown",
   "id": "2cd0a024",
   "metadata": {},
   "source": [
    "### Helper functions"
   ]
  },
  {
   "cell_type": "code",
   "execution_count": 35,
   "id": "ee9fdc36",
   "metadata": {},
   "outputs": [],
   "source": [
    "def get_nb_hits(json_response):\n",
    "    return len(json_response['hits']['hits'])\n",
    "\n",
    "def get_next_link(json_response):\n",
    "    return json_response['links'].get('next', None)\n",
    "\n",
    "def reget(url, params=None, **kwargs):\n",
    "    \"\"\"\n",
    "    Sends a GET request and resends it with increasing delays\n",
    "    when status code 429 (too many requests) is received.\n",
    "\n",
    "    :param url: URL for the new :class:`Request` object.\n",
    "    :param params: (optional) Dictionary, list of tuples or bytes to send\n",
    "        in the query string for the :class:`Request`.\n",
    "    :param **kwargs: Optional arguments that ``request`` takes.\n",
    "    :return: :class:`Response <Response>` object\n",
    "    :rtype: requests.Response\n",
    "    \"\"\"\n",
    "    if params is None:\n",
    "        print(f\"URL: {url}\")\n",
    "    else:\n",
    "        print(f\"URL: {url}, params:\")\n",
    "        redacted_params = params\n",
    "        del redacted_params['access_token'] # don't want to leak the token\n",
    "        print(json.dumps(redacted_params, indent = 4))\n",
    "    delay = 0.0\n",
    "    while True:  \n",
    "        response = requests.get(url, params=params, **kwargs)\n",
    "        if response.status_code != 429: # not too many requests\n",
    "            return response\n",
    "        delay += 2\n",
    "        print(f\"delay: {delay}s to circumvent rate limiting...\")\n",
    "        time.sleep(delay)"
   ]
  },
  {
   "cell_type": "markdown",
   "id": "754845cc",
   "metadata": {},
   "source": [
    "### Query with one page per hit\n",
    "\n",
    "The query string uses [elastic search syntax](https://www.elastic.co/guide/en/elasticsearch/reference/current/query-dsl-query-string-query.html#query-string-syntax)."
   ]
  },
  {
   "cell_type": "code",
   "execution_count": 36,
   "id": "bd1e44cf",
   "metadata": {},
   "outputs": [
    {
     "name": "stdout",
     "output_type": "stream",
     "text": [
      "URL: https://zenodo.org/api/records, params:\n",
      "{\n",
      "    \"q\": \"\",\n",
      "    \"type\": \"dataset\",\n",
      "    \"communities\": \"coacch-co-designing-the-assessment-of-climate-change-costs-h2020-project\",\n",
      "    \"size\": 1,\n",
      "    \"page\": 1\n",
      "}\n"
     ]
    }
   ],
   "source": [
    "query = \"\"\n",
    "params = {\n",
    "    'q': urllib.parse.quote(query),\n",
    "    #'type': 'publication',\n",
    "    'type': 'dataset',\n",
    "    'communities': \"coacch-co-designing-the-assessment-of-climate-change-costs-h2020-project\",\n",
    "    'size': 1, # hits per page\n",
    "    'page': 1,\n",
    "    'access_token': os.environ['ZENODO_API_TOKEN']\n",
    "}\n",
    "response = reget(\"https://zenodo.org/api/records\", params = params)\n",
    "assert response.status_code == 200 # success\n",
    "j = response.json()\n",
    "assert len(j['hits']['hits']) == 1 # yup, one hit on the first page"
   ]
  },
  {
   "cell_type": "markdown",
   "id": "059701e3",
   "metadata": {},
   "source": [
    "### Show hit (present on this page, presumably)\n",
    "\n",
    "Since the page size is 1, we can zero-index the single hit on this page."
   ]
  },
  {
   "cell_type": "code",
   "execution_count": 37,
   "id": "77a8ae6c",
   "metadata": {},
   "outputs": [
    {
     "name": "stdout",
     "output_type": "stream",
     "text": [
      "conceptdoi: 10.5281/zenodo.5541893\n",
      "conceptrecid: '5541893'\n",
      "created: '2021-09-30T16:33:25.637302+00:00'\n",
      "doi: 10.5281/zenodo.5541894\n",
      "files:\n",
      "- bucket: 47e4e7fc-084d-4e22-83ef-59337a2f86a9\n",
      "  checksum: md5:8e2a0bd14e36442fb683b4920a9a8381\n",
      "  key: COACCH_MetaData_energy_demand.csv\n",
      "  links:\n",
      "    self: https://zenodo.org/api/files/47e4e7fc-084d-4e22-83ef-59337a2f86a9/COACCH_MetaData_energy_demand.csv\n",
      "  size: 1718\n",
      "  type: csv\n",
      "- bucket: 47e4e7fc-084d-4e22-83ef-59337a2f86a9\n",
      "  checksum: md5:16afc8057fc0dd1757dddfa4a072ca37\n",
      "  key: energy_demand_all_rcp.xlsx\n",
      "  links:\n",
      "    self: https://zenodo.org/api/files/47e4e7fc-084d-4e22-83ef-59337a2f86a9/energy_demand_all_rcp.xlsx\n",
      "  size: 157343\n",
      "  type: xlsx\n",
      "id: 5541894\n",
      "links:\n",
      "  badge: https://zenodo.org/badge/doi/10.5281/zenodo.5541894.svg\n",
      "  bucket: https://zenodo.org/api/files/47e4e7fc-084d-4e22-83ef-59337a2f86a9\n",
      "  conceptbadge: https://zenodo.org/badge/doi/10.5281/zenodo.5541893.svg\n",
      "  conceptdoi: https://doi.org/10.5281/zenodo.5541893\n",
      "  doi: https://doi.org/10.5281/zenodo.5541894\n",
      "  html: https://zenodo.org/record/5541894\n",
      "  latest: https://zenodo.org/api/records/5541894\n",
      "  latest_html: https://zenodo.org/record/5541894\n",
      "  self: https://zenodo.org/api/records/5541894\n",
      "metadata:\n",
      "  access_right: open\n",
      "  access_right_category: success\n",
      "  communities:\n",
      "  - id: coacch-co-designing-the-assessment-of-climate-change-costs-h2020-project\n",
      "  creators:\n",
      "  - affiliation: Fondazione CMCC\n",
      "    name: Shouro Dasgupta\n",
      "    orcid: 0000-0003-4080-8066\n",
      "  description: <p>Climate change impacts on energy demand by energy carrier (electricity,\n",
      "    natural gas, and petroleum) and sector (agriculture, industry, residential, and\n",
      "    commercial).</p>\n",
      "  doi: 10.5281/zenodo.5541894\n",
      "  grants:\n",
      "  - acronym: COACCH\n",
      "    code: '776479'\n",
      "    funder:\n",
      "      acronyms: []\n",
      "      doi: 10.13039/501100000780\n",
      "      links:\n",
      "        self: https://zenodo.org/api/funders/10.13039/501100000780\n",
      "      name: European Commission\n",
      "    links:\n",
      "      self: https://zenodo.org/api/grants/10.13039/501100000780::776479\n",
      "    program: H2020\n",
      "    title: CO-designing the Assessment of Climate CHange costs\n",
      "  keywords:\n",
      "  - climate change, energy demand, energy carrier, sectoral, socio-economic, econometrics;\n",
      "    COACCH\n",
      "  license:\n",
      "    id: CC-BY-4.0\n",
      "  publication_date: '2021-09-30'\n",
      "  related_identifiers:\n",
      "  - identifier: 10.5281/zenodo.5541893\n",
      "    relation: isVersionOf\n",
      "    scheme: doi\n",
      "  relations:\n",
      "    version:\n",
      "    - count: 1\n",
      "      index: 0\n",
      "      is_last: true\n",
      "      last_child:\n",
      "        pid_type: recid\n",
      "        pid_value: '5541894'\n",
      "      parent:\n",
      "        pid_type: recid\n",
      "        pid_value: '5541893'\n",
      "  resource_type:\n",
      "    title: Dataset\n",
      "    type: dataset\n",
      "  title: Climate change impacts on energy demand\n",
      "owners:\n",
      "- 256865\n",
      "revision: 3\n",
      "stats:\n",
      "  downloads: 0.0\n",
      "  unique_downloads: 0.0\n",
      "  unique_views: 3.0\n",
      "  version_downloads: 0.0\n",
      "  version_unique_downloads: 0.0\n",
      "  version_unique_views: 3.0\n",
      "  version_views: 4.0\n",
      "  version_volume: 0.0\n",
      "  views: 4.0\n",
      "  volume: 0.0\n",
      "updated: '2021-10-01T08:30:25.451359+00:00'\n",
      "\n"
     ]
    }
   ],
   "source": [
    "print(yaml.dump(j['hits']['hits'][0]))"
   ]
  },
  {
   "cell_type": "markdown",
   "id": "3bbbd94d",
   "metadata": {},
   "source": [
    "### Define a function to custom-process each hit"
   ]
  },
  {
   "cell_type": "code",
   "execution_count": 38,
   "id": "5d366d40",
   "metadata": {},
   "outputs": [],
   "source": [
    "def process_hit(hit):\n",
    "    \"\"\"\n",
    "    Process a query hit and generate a ReST page.\n",
    "    \"\"\"\n",
    "    print(f\"Title: {hit['metadata']['title']}\")\n",
    "\n",
    "    # Define a templated ReST page for the hit\n",
    "    # ------ BEGIN TEMPLATE ----------\n",
    "    page = f\"\"\"\n",
    ".. This file is automaticaly generted. Do not edit.\n",
    "\n",
    "`{hit['metadata']['title']} <{hit['links']['html']}>`_\n",
    "{'=' * (len(hit['metadata']['title']) + len(hit['links']['html']) + 6)}\n",
    "\n",
    ".. image:: {hit['links']['badge']}\n",
    "   :target: {hit['links']['doi']}\n",
    "\n",
    "Description:\n",
    "------------\n",
    "\n",
    "{hit['metadata']['description']}\n",
    "\n",
    "Authors:\n",
    "--------\n",
    "{'; '.join([creator['name'] for creator in hit['metadata']['creators']])}\n",
    "\n",
    ".. meta::\n",
    "   :keywords: {'' if 'keywords' not in hit['metadata'] else ', '.join([keyword for keyword in hit['metadata']['keywords']])}\n",
    "    \"\"\"\n",
    "    # ------ END TEMPLATE ------------\n",
    "\n",
    "    # Write ReST page, basing the filename on the Zenodo ID\n",
    "    with open(f\"../docs/{params['type']}s/{hit['id']}.rst\", \"w\", encoding = 'utf-8', newline = '\\n') as rst:\n",
    "        rst.write(page)\n",
    "    return hit['id']"
   ]
  },
  {
   "cell_type": "markdown",
   "id": "e5b6cd8d",
   "metadata": {},
   "source": [
    "### Process each hit, getting the next page/hit every iteration"
   ]
  },
  {
   "cell_type": "code",
   "execution_count": 39,
   "id": "5898976e",
   "metadata": {},
   "outputs": [
    {
     "name": "stdout",
     "output_type": "stream",
     "text": [
      "Title: Climate change impacts on energy demand\n",
      "URL: https://zenodo.org/api/records/?sort=mostrecent&q=&communities=coacch-co-designing-the-assessment-of-climate-change-costs-h2020-project&type=dataset&page=2&size=1\n",
      "Title: Supply Chain Shocks due to extreme weather events\n",
      "URL: https://zenodo.org/api/records/?sort=mostrecent&q=&communities=coacch-co-designing-the-assessment-of-climate-change-costs-h2020-project&type=dataset&page=3&size=1\n",
      "Title: Riverine Flood Insurance assessment indicators under climate and socio-economic change\n",
      "URL: https://zenodo.org/api/records/?sort=mostrecent&q=&communities=coacch-co-designing-the-assessment-of-climate-change-costs-h2020-project&type=dataset&page=4&size=1\n",
      "Title: Time of emergence of climate change impacts\n",
      "URL: https://zenodo.org/api/records/?sort=mostrecent&q=&communities=coacch-co-designing-the-assessment-of-climate-change-costs-h2020-project&type=dataset&page=5&size=1\n",
      "Title: Climate induced economic shocks using CLIMRISK\n",
      "URL: https://zenodo.org/api/records/?sort=mostrecent&q=&communities=coacch-co-designing-the-assessment-of-climate-change-costs-h2020-project&type=dataset&page=6&size=1\n",
      "Title: River flooding impacts using CLIMRISK-RIVER\n",
      "URL: https://zenodo.org/api/records/?sort=mostrecent&q=&communities=coacch-co-designing-the-assessment-of-climate-change-costs-h2020-project&type=dataset&page=7&size=1\n",
      "Title: SETP Food\n",
      "URL: https://zenodo.org/api/records/?sort=mostrecent&q=&communities=coacch-co-designing-the-assessment-of-climate-change-costs-h2020-project&type=dataset&page=8&size=1\n",
      "Title: ImpactChains_GLOBIOM\n",
      "URL: https://zenodo.org/api/records/?sort=mostrecent&q=&communities=coacch-co-designing-the-assessment-of-climate-change-costs-h2020-project&type=dataset&page=9&size=1\n",
      "Title: Additional dataset to \"Comparing urban coastal flood risk in 136 cities under two alternative sea-level projections: RCP 8.5 and an expert opinion-based high-end scenario\"\n"
     ]
    },
    {
     "data": {
      "text/plain": [
       "[5541894,\n",
       " 5541327,\n",
       " 5534190,\n",
       " 5530237,\n",
       " 5530146,\n",
       " 5529888,\n",
       " 5529732,\n",
       " 5513871,\n",
       " 4733499]"
      ]
     },
     "execution_count": 39,
     "metadata": {},
     "output_type": "execute_result"
    }
   ],
   "source": [
    "# Process initial hit\n",
    "ids = [process_hit(j['hits']['hits'][0])]\n",
    "# Process next hits/pages until they exhaust\n",
    "jn = j\n",
    "while get_next_link(jn): \n",
    "    next_response = reget(get_next_link(jn))\n",
    "    assert next_response.status_code == 200 # success\n",
    "    jn = next_response.json()\n",
    "    ids.append(process_hit(jn['hits']['hits'][0]))\n",
    "# Check that processed hits equals total hits\n",
    "assert len(ids) == j['hits']['total']\n",
    "ids"
   ]
  },
  {
   "cell_type": "markdown",
   "id": "54664488",
   "metadata": {},
   "source": [
    "### Add datasets to their respective class pages"
   ]
  },
  {
   "cell_type": "code",
   "execution_count": 40,
   "id": "bc1aedb9",
   "metadata": {},
   "outputs": [],
   "source": [
    "exec(open('classes.py').read())\n",
    "written = {}\n",
    "for c in classes:\n",
    "    # read the class file\n",
    "    with open(f\"../docs/classes/{c}.rst\", \"r\", encoding = 'utf-8') as class_rst:\n",
    "        lines = class_rst.readlines()\n",
    "    # find the toctree\n",
    "    i = 0\n",
    "    while lines[i].find(\".. toctree::\") < 0:\n",
    "        i += 1\n",
    "    # find the start of the ToC entries\n",
    "    while lines[i] != '\\n':\n",
    "        i += 1\n",
    "    i += 1\n",
    "    assert i > 2\n",
    "    start = i\n",
    "    # remove ToC entries\n",
    "    while i < len(lines) and lines[i] != '\\n':\n",
    "        lines.pop(i)\n",
    "    # add new ToC entries\n",
    "    for id in reversed(ids):\n",
    "        if id in classes[c] or c =='other' and id not in written:\n",
    "            written[id] = True\n",
    "            lines.insert(start, f\"   ../datasets/{id}\\n\")\n",
    "    # write the index file\n",
    "    with open(f\"../docs/classes/{c}.rst\", \"w\", encoding = 'utf-8', newline = '\\n') as class_rst:\n",
    "        class_rst.writelines(lines)"
   ]
  },
  {
   "cell_type": "markdown",
   "id": "aba5622d",
   "metadata": {},
   "source": [
    "### List root-level keys and value types of the JSON result dictionary"
   ]
  },
  {
   "cell_type": "code",
   "execution_count": 173,
   "id": "913102b0",
   "metadata": {},
   "outputs": [
    {
     "name": "stdout",
     "output_type": "stream",
     "text": [
      "'aggregations' <class 'dict'>\n",
      "'hits' <class 'dict'>\n",
      "'links' <class 'dict'>\n"
     ]
    }
   ],
   "source": [
    "for key in j:\n",
    "    print(f\"'{key}' {type(j[key])}\")"
   ]
  },
  {
   "cell_type": "markdown",
   "id": "0bb0765e",
   "metadata": {},
   "source": [
    "### Show aggregations (aggregate data over all query hits, presumably)"
   ]
  },
  {
   "cell_type": "code",
   "execution_count": 174,
   "id": "ffc5125a",
   "metadata": {},
   "outputs": [
    {
     "name": "stdout",
     "output_type": "stream",
     "text": [
      "access_right:\n",
      "  buckets:\n",
      "  - doc_count: 25\n",
      "    key: open\n",
      "  - doc_count: 1\n",
      "    key: restricted\n",
      "  doc_count_error_upper_bound: 0\n",
      "  sum_other_doc_count: 0\n",
      "file_type:\n",
      "  buckets:\n",
      "  - doc_count: 19\n",
      "    key: pdf\n",
      "  - doc_count: 5\n",
      "    key: csv\n",
      "  - doc_count: 2\n",
      "    key: xlsx\n",
      "  - doc_count: 1\n",
      "    key: docx\n",
      "  - doc_count: 1\n",
      "    key: zip\n",
      "  doc_count_error_upper_bound: 0\n",
      "  sum_other_doc_count: 0\n",
      "keywords:\n",
      "  buckets:\n",
      "  - doc_count: 5\n",
      "    key: COACCH\n",
      "  - doc_count: 2\n",
      "    key: agriculture\n",
      "  - doc_count: 1\n",
      "    key: CLIMRISK\n",
      "  - doc_count: 1\n",
      "    key: CLIMRISK-RIVER\n",
      "  - doc_count: 1\n",
      "    key: Climate change mitigation; Electricity; Europe; Risk; Capital costs\n",
      "  - doc_count: 1\n",
      "    key: Climate-change impacts, Geology\n",
      "  - doc_count: 1\n",
      "    key: Coastal cities\n",
      "  - doc_count: 1\n",
      "    key: Damage risk\n",
      "  - doc_count: 1\n",
      "    key: ERA-5\n",
      "  - doc_count: 1\n",
      "    key: GLOFRIS\n",
      "  doc_count_error_upper_bound: 0\n",
      "  sum_other_doc_count: 27\n",
      "type:\n",
      "  buckets:\n",
      "  - doc_count: 19\n",
      "    key: publication\n",
      "    subtype:\n",
      "      buckets:\n",
      "      - doc_count: 19\n",
      "        key: article\n",
      "      doc_count_error_upper_bound: 0\n",
      "      sum_other_doc_count: 0\n",
      "  - doc_count: 6\n",
      "    key: dataset\n",
      "    subtype:\n",
      "      buckets: []\n",
      "      doc_count_error_upper_bound: 0\n",
      "      sum_other_doc_count: 0\n",
      "  - doc_count: 1\n",
      "    key: poster\n",
      "    subtype:\n",
      "      buckets: []\n",
      "      doc_count_error_upper_bound: 0\n",
      "      sum_other_doc_count: 0\n",
      "  doc_count_error_upper_bound: 0\n",
      "  sum_other_doc_count: 0\n",
      "\n"
     ]
    }
   ],
   "source": [
    "print(yaml.dump(j['aggregations']))"
   ]
  },
  {
   "cell_type": "markdown",
   "id": "6fb34d53",
   "metadata": {},
   "source": [
    "### Show links (navigation links on this page, presumably)"
   ]
  },
  {
   "cell_type": "code",
   "execution_count": 175,
   "id": "1a3817a5",
   "metadata": {},
   "outputs": [
    {
     "name": "stdout",
     "output_type": "stream",
     "text": [
      "next: https://zenodo.org/api/records/?sort=mostrecent&q=&communities=coacch-co-designing-the-assessment-of-climate-change-costs-h2020-project&type=dataset&page=2&size=1\n",
      "self: https://zenodo.org/api/records/?sort=mostrecent&q=&communities=coacch-co-designing-the-assessment-of-climate-change-costs-h2020-project&type=dataset&page=1&size=1\n",
      "\n"
     ]
    }
   ],
   "source": [
    "print(yaml.dump(j['links']))"
   ]
  },
  {
   "cell_type": "markdown",
   "id": "0e81e562",
   "metadata": {},
   "source": [
    "### List root-level keys and value types of the 'hits' sub dictionary\n",
    "\n",
    "Presumably, this is a list of hits returned on the current page as well as a total number of hits, which could have been classified as an 'aggregation' entry."
   ]
  },
  {
   "cell_type": "code",
   "execution_count": 176,
   "id": "c990d903",
   "metadata": {},
   "outputs": [
    {
     "name": "stdout",
     "output_type": "stream",
     "text": [
      "'hits' <class 'list'>\n",
      "'total' <class 'int'>\n"
     ]
    }
   ],
   "source": [
    "for key in j['hits']:\n",
    "    print(f\"'{key}' {type(j['hits'][key])}\")"
   ]
  }
 ],
 "metadata": {
  "kernelspec": {
   "display_name": "Python 3 (ipykernel)",
   "language": "python",
   "name": "python3"
  },
  "language_info": {
   "codemirror_mode": {
    "name": "ipython",
    "version": 3
   },
   "file_extension": ".py",
   "mimetype": "text/x-python",
   "name": "python",
   "nbconvert_exporter": "python",
   "pygments_lexer": "ipython3",
   "version": "3.7.10"
  }
 },
 "nbformat": 4,
 "nbformat_minor": 5
}
