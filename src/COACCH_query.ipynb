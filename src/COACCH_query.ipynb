{
 "cells": [
  {
   "cell_type": "code",
   "execution_count": 167,
   "id": "9df71b82",
   "metadata": {},
   "outputs": [],
   "source": [
    "import json\n",
    "import os\n",
    "import requests\n",
    "import time\n",
    "import urllib\n",
    "import yaml"
   ]
  },
  {
   "cell_type": "markdown",
   "id": "2cd0a024",
   "metadata": {},
   "source": [
    "### Helper functions"
   ]
  },
  {
   "cell_type": "code",
   "execution_count": 168,
   "id": "ee9fdc36",
   "metadata": {},
   "outputs": [],
   "source": [
    "def get_nb_hits(json_response):\n",
    "    return len(json_response['hits']['hits'])\n",
    "\n",
    "def get_next_link(json_response):\n",
    "    return json_response['links'].get('next', None)\n",
    "\n",
    "def reget(url, params=None, **kwargs):\n",
    "    \"\"\"\n",
    "    Sends a GET request and resends it with increasing delays\n",
    "    when status code 429 (too many requests) is received.\n",
    "\n",
    "    :param url: URL for the new :class:`Request` object.\n",
    "    :param params: (optional) Dictionary, list of tuples or bytes to send\n",
    "        in the query string for the :class:`Request`.\n",
    "    :param **kwargs: Optional arguments that ``request`` takes.\n",
    "    :return: :class:`Response <Response>` object\n",
    "    :rtype: requests.Response\n",
    "    \"\"\"\n",
    "    if params is None:\n",
    "        print(f\"URL: {url}\")\n",
    "    else:\n",
    "        print(f\"URL: {url}, params:\")\n",
    "        redacted_params = params\n",
    "        del redacted_params['access_token'] # don't want to leak the token\n",
    "        print(json.dumps(redacted_params, indent = 4))\n",
    "    delay = 0.0\n",
    "    while True:  \n",
    "        response = requests.get(url, params=params, **kwargs)\n",
    "        if response.status_code != 429: # not too many requests\n",
    "            return response\n",
    "        delay += 2\n",
    "        print(f\"delay: {delay}s to circumvent rate limiting...\")\n",
    "        time.sleep(delay)"
   ]
  },
  {
   "cell_type": "markdown",
   "id": "754845cc",
   "metadata": {},
   "source": [
    "### Query with one page per hit\n",
    "\n",
    "The query string uses [elastic search syntax](https://www.elastic.co/guide/en/elasticsearch/reference/current/query-dsl-query-string-query.html#query-string-syntax)."
   ]
  },
  {
   "cell_type": "code",
   "execution_count": 178,
   "id": "bd1e44cf",
   "metadata": {},
   "outputs": [
    {
     "name": "stdout",
     "output_type": "stream",
     "text": [
      "URL: https://zenodo.org/api/records, params:\n",
      "{\n",
      "    \"q\": \"\",\n",
      "    \"type\": \"dataset\",\n",
      "    \"communities\": \"coacch-co-designing-the-assessment-of-climate-change-costs-h2020-project\",\n",
      "    \"size\": 1,\n",
      "    \"page\": 1\n",
      "}\n"
     ]
    }
   ],
   "source": [
    "query = \"\"\n",
    "params = {\n",
    "    'q': urllib.parse.quote(query),\n",
    "    #'type': 'publication',\n",
    "    'type': 'dataset',\n",
    "    'communities': \"coacch-co-designing-the-assessment-of-climate-change-costs-h2020-project\",\n",
    "    'size': 1, # hits per page\n",
    "    'page': 1,\n",
    "    'access_token': os.environ['ZENODO_API_TOKEN']\n",
    "}\n",
    "response = reget(\"https://zenodo.org/api/records\", params = params)\n",
    "assert response.status_code == 200 # success\n",
    "j = response.json()\n",
    "assert len(j['hits']['hits']) == 1 # yup, one hit on the first page"
   ]
  },
  {
   "cell_type": "markdown",
   "id": "059701e3",
   "metadata": {},
   "source": [
    "### Show hit (present on this page, presumably)\n",
    "\n",
    "Since the page size is 1, we can zero-index the single hit on this page."
   ]
  },
  {
   "cell_type": "code",
   "execution_count": 179,
   "id": "77a8ae6c",
   "metadata": {},
   "outputs": [
    {
     "name": "stdout",
     "output_type": "stream",
     "text": [
      "conceptdoi: 10.5281/zenodo.5530236\n",
      "conceptrecid: '5530236'\n",
      "created: '2021-09-27T11:09:53.909997+00:00'\n",
      "doi: 10.5281/zenodo.5530237\n",
      "files:\n",
      "- bucket: d69d64c8-affa-4166-9635-d14660bdcd60\n",
      "  checksum: md5:98d63adfed3fdaad30d6da345f35a091\n",
      "  key: metadata.csv\n",
      "  links:\n",
      "    self: https://zenodo.org/api/files/d69d64c8-affa-4166-9635-d14660bdcd60/metadata.csv\n",
      "  size: 1552\n",
      "  type: csv\n",
      "- bucket: d69d64c8-affa-4166-9635-d14660bdcd60\n",
      "  checksum: md5:1d7edb9ecae19c9d4a6f362a88c6dc68\n",
      "  key: toei.csv\n",
      "  links:\n",
      "    self: https://zenodo.org/api/files/d69d64c8-affa-4166-9635-d14660bdcd60/toei.csv\n",
      "  size: 121288\n",
      "  type: csv\n",
      "id: 5530237\n",
      "links:\n",
      "  badge: https://zenodo.org/badge/doi/10.5281/zenodo.5530237.svg\n",
      "  bucket: https://zenodo.org/api/files/d69d64c8-affa-4166-9635-d14660bdcd60\n",
      "  conceptbadge: https://zenodo.org/badge/doi/10.5281/zenodo.5530236.svg\n",
      "  conceptdoi: https://doi.org/10.5281/zenodo.5530236\n",
      "  doi: https://doi.org/10.5281/zenodo.5530237\n",
      "  html: https://zenodo.org/record/5530237\n",
      "  latest: https://zenodo.org/api/records/5530237\n",
      "  latest_html: https://zenodo.org/record/5530237\n",
      "  self: https://zenodo.org/api/records/5530237\n",
      "metadata:\n",
      "  access_right: open\n",
      "  access_right_category: success\n",
      "  communities:\n",
      "  - id: coacch-co-designing-the-assessment-of-climate-change-costs-h2020-project\n",
      "  creators:\n",
      "  - affiliation: IVM, VU\n",
      "    name: Ignjacevic, Predrag\n",
      "    orcid: 0000-0002-4313-9833\n",
      "  description: '<p>Expected year in which climate impacts would exceed an extreme\n",
      "    past economic shock value (95th percentile).</p>\n",
      "\n",
      "\n",
      "    <p>Model used: CLIMRISK</p>\n",
      "\n",
      "\n",
      "    <p>Scale: 0.5 degrees * 0.5 degrees</p>\n",
      "\n",
      "\n",
      "    <p>Shock database consists of changes in annual GDP between 1950 - 2016.</p>\n",
      "\n",
      "\n",
      "    <p>Citation:&nbsp;Ignjacevic, Predrag, Francisco Estrada Porrua, and Willem Jan\n",
      "    Wouter Botzen. &quot;Time of emergence of economic impacts of climate change.&quot;&nbsp;<em>Environmental\n",
      "    Research Letters</em>&nbsp;(2021).</p>'\n",
      "  doi: 10.5281/zenodo.5530237\n",
      "  grants:\n",
      "  - acronym: COACCH\n",
      "    code: '776479'\n",
      "    funder:\n",
      "      acronyms: []\n",
      "      doi: 10.13039/501100000780\n",
      "      links:\n",
      "        self: https://zenodo.org/api/funders/10.13039/501100000780\n",
      "      name: European Commission\n",
      "    links:\n",
      "      self: https://zenodo.org/api/grants/10.13039/501100000780::776479\n",
      "    program: H2020\n",
      "    title: CO-designing the Assessment of Climate CHange costs\n",
      "  keywords:\n",
      "  - COACCH\n",
      "  - ToEI\n",
      "  - time of emergence\n",
      "  - time to adapt\n",
      "  - climate adaptation\n",
      "  language: eng\n",
      "  license:\n",
      "    id: CC-BY-4.0\n",
      "  publication_date: '2021-09-27'\n",
      "  related_identifiers:\n",
      "  - identifier: 10.5281/zenodo.5530236\n",
      "    relation: isVersionOf\n",
      "    scheme: doi\n",
      "  relations:\n",
      "    version:\n",
      "    - count: 1\n",
      "      index: 0\n",
      "      is_last: true\n",
      "      last_child:\n",
      "        pid_type: recid\n",
      "        pid_value: '5530237'\n",
      "      parent:\n",
      "        pid_type: recid\n",
      "        pid_value: '5530236'\n",
      "  resource_type:\n",
      "    title: Dataset\n",
      "    type: dataset\n",
      "  title: Time of emergence of climate change impacts\n",
      "owners:\n",
      "- 256107\n",
      "revision: 3\n",
      "stats:\n",
      "  downloads: 2.0\n",
      "  unique_downloads: 1.0\n",
      "  unique_views: 1.0\n",
      "  version_downloads: 2.0\n",
      "  version_unique_downloads: 1.0\n",
      "  version_unique_views: 1.0\n",
      "  version_views: 2.0\n",
      "  version_volume: 3104.0\n",
      "  views: 2.0\n",
      "  volume: 3104.0\n",
      "updated: '2021-09-27T13:48:25.152183+00:00'\n",
      "\n"
     ]
    }
   ],
   "source": [
    "print(yaml.dump(j['hits']['hits'][0]))"
   ]
  },
  {
   "cell_type": "markdown",
   "id": "3bbbd94d",
   "metadata": {},
   "source": [
    "### Define a function to custom-process each hit"
   ]
  },
  {
   "cell_type": "code",
   "execution_count": 180,
   "id": "5d366d40",
   "metadata": {},
   "outputs": [],
   "source": [
    "def process_hit(hit):\n",
    "    print(f\"Title: {hit['metadata']['title']}\")\n",
    "    # Define a templatedReST page for  the hit,\n",
    "    page = f\"\"\"\n",
    "`{hit['metadata']['title']} <{hit['links']['html']}>`_\n",
    "{'=' * (len(hit['metadata']['title']) + len(hit['links']['html']) + 6)}\n",
    "\n",
    ".. image:: {hit['links']['badge']}\n",
    "   :target: {hit['links']['doi']}\n",
    "\n",
    "Description:\n",
    "------------\n",
    "\n",
    ".. raw:: html\n",
    "\n",
    "    <embed>\n",
    "        {hit['metadata']['description']}\n",
    "    </embed>\n",
    "    \n",
    "Socio-economic and environmental impacts of gradual climate change on agriculture, forestry and fisheries calculated using the GLOBIOM model\n",
    "\n",
    "Authors:\n",
    "--------\n",
    "{'; '.join([creator['name'] for creator in hit['metadata']['creators']])}\n",
    "\n",
    ".. meta::\n",
    "   :keywords: {'' if 'keywords' not in hit['metadata'] else ', '.join([keyword for keyword in hit['metadata']['keywords']])}\n",
    "    \"\"\"\n",
    "    # Write ReST page, basing the filename on the Zenodo ID\n",
    "    with open(f\"../docs/{params['type']}s/{hit['id']}.rst\", \"w\", encoding = 'utf-8') as rst:\n",
    "        rst.write(page)"
   ]
  },
  {
   "cell_type": "markdown",
   "id": "e5b6cd8d",
   "metadata": {},
   "source": [
    "### Process each hit, getting the next page/hit every iteration"
   ]
  },
  {
   "cell_type": "code",
   "execution_count": 181,
   "id": "5898976e",
   "metadata": {},
   "outputs": [
    {
     "name": "stdout",
     "output_type": "stream",
     "text": [
      "Title: Time of emergence of climate change impacts\n",
      "URL: https://zenodo.org/api/records/?sort=mostrecent&q=&communities=coacch-co-designing-the-assessment-of-climate-change-costs-h2020-project&type=dataset&page=2&size=1\n",
      "Title: Climate induced economic shocks using CLIMRISK\n",
      "URL: https://zenodo.org/api/records/?sort=mostrecent&q=&communities=coacch-co-designing-the-assessment-of-climate-change-costs-h2020-project&type=dataset&page=3&size=1\n",
      "Title: River flooding impacts using CLIMRISK-RIVER\n",
      "URL: https://zenodo.org/api/records/?sort=mostrecent&q=&communities=coacch-co-designing-the-assessment-of-climate-change-costs-h2020-project&type=dataset&page=4&size=1\n",
      "Title: SETP Food\n",
      "URL: https://zenodo.org/api/records/?sort=mostrecent&q=&communities=coacch-co-designing-the-assessment-of-climate-change-costs-h2020-project&type=dataset&page=5&size=1\n",
      "Title: ImpactChains_GLOBIOM\n",
      "URL: https://zenodo.org/api/records/?sort=mostrecent&q=&communities=coacch-co-designing-the-assessment-of-climate-change-costs-h2020-project&type=dataset&page=6&size=1\n",
      "Title: Additional dataset to \"Comparing urban coastal flood risk in 136 cities under two alternative sea-level projections: RCP 8.5 and an expert opinion-based high-end scenario\"\n"
     ]
    }
   ],
   "source": [
    "# Process initial hit\n",
    "process_hit(j['hits']['hits'][0])\n",
    "processed_hits = get_nb_hits(j)\n",
    "# Process next hits/pages until they exhaust\n",
    "jn = j\n",
    "while get_next_link(jn): \n",
    "    next_response = reget(get_next_link(jn))\n",
    "    assert next_response.status_code == 200 # success\n",
    "    jn = next_response.json()\n",
    "    process_hit(jn['hits']['hits'][0])\n",
    "    processed_hits += get_nb_hits(jn)\n",
    "# Check that processed hits equals total hits\n",
    "assert processed_hits == j['hits']['total']"
   ]
  },
  {
   "cell_type": "markdown",
   "id": "aba5622d",
   "metadata": {},
   "source": [
    "### List root-level keys and value types of the JSON result dictionary"
   ]
  },
  {
   "cell_type": "code",
   "execution_count": 173,
   "id": "913102b0",
   "metadata": {},
   "outputs": [
    {
     "name": "stdout",
     "output_type": "stream",
     "text": [
      "'aggregations' <class 'dict'>\n",
      "'hits' <class 'dict'>\n",
      "'links' <class 'dict'>\n"
     ]
    }
   ],
   "source": [
    "for key in j:\n",
    "    print(f\"'{key}' {type(j[key])}\")"
   ]
  },
  {
   "cell_type": "markdown",
   "id": "0bb0765e",
   "metadata": {},
   "source": [
    "### Show aggregations (aggregate data over all query hits, presumably)"
   ]
  },
  {
   "cell_type": "code",
   "execution_count": 174,
   "id": "ffc5125a",
   "metadata": {},
   "outputs": [
    {
     "name": "stdout",
     "output_type": "stream",
     "text": [
      "access_right:\n",
      "  buckets:\n",
      "  - doc_count: 25\n",
      "    key: open\n",
      "  - doc_count: 1\n",
      "    key: restricted\n",
      "  doc_count_error_upper_bound: 0\n",
      "  sum_other_doc_count: 0\n",
      "file_type:\n",
      "  buckets:\n",
      "  - doc_count: 19\n",
      "    key: pdf\n",
      "  - doc_count: 5\n",
      "    key: csv\n",
      "  - doc_count: 2\n",
      "    key: xlsx\n",
      "  - doc_count: 1\n",
      "    key: docx\n",
      "  - doc_count: 1\n",
      "    key: zip\n",
      "  doc_count_error_upper_bound: 0\n",
      "  sum_other_doc_count: 0\n",
      "keywords:\n",
      "  buckets:\n",
      "  - doc_count: 5\n",
      "    key: COACCH\n",
      "  - doc_count: 2\n",
      "    key: agriculture\n",
      "  - doc_count: 1\n",
      "    key: CLIMRISK\n",
      "  - doc_count: 1\n",
      "    key: CLIMRISK-RIVER\n",
      "  - doc_count: 1\n",
      "    key: Climate change mitigation; Electricity; Europe; Risk; Capital costs\n",
      "  - doc_count: 1\n",
      "    key: Climate-change impacts, Geology\n",
      "  - doc_count: 1\n",
      "    key: Coastal cities\n",
      "  - doc_count: 1\n",
      "    key: Damage risk\n",
      "  - doc_count: 1\n",
      "    key: ERA-5\n",
      "  - doc_count: 1\n",
      "    key: GLOFRIS\n",
      "  doc_count_error_upper_bound: 0\n",
      "  sum_other_doc_count: 27\n",
      "type:\n",
      "  buckets:\n",
      "  - doc_count: 19\n",
      "    key: publication\n",
      "    subtype:\n",
      "      buckets:\n",
      "      - doc_count: 19\n",
      "        key: article\n",
      "      doc_count_error_upper_bound: 0\n",
      "      sum_other_doc_count: 0\n",
      "  - doc_count: 6\n",
      "    key: dataset\n",
      "    subtype:\n",
      "      buckets: []\n",
      "      doc_count_error_upper_bound: 0\n",
      "      sum_other_doc_count: 0\n",
      "  - doc_count: 1\n",
      "    key: poster\n",
      "    subtype:\n",
      "      buckets: []\n",
      "      doc_count_error_upper_bound: 0\n",
      "      sum_other_doc_count: 0\n",
      "  doc_count_error_upper_bound: 0\n",
      "  sum_other_doc_count: 0\n",
      "\n"
     ]
    }
   ],
   "source": [
    "print(yaml.dump(j['aggregations']))"
   ]
  },
  {
   "cell_type": "markdown",
   "id": "6fb34d53",
   "metadata": {},
   "source": [
    "### Show links (navigation links on this page, presumably)"
   ]
  },
  {
   "cell_type": "code",
   "execution_count": 175,
   "id": "1a3817a5",
   "metadata": {},
   "outputs": [
    {
     "name": "stdout",
     "output_type": "stream",
     "text": [
      "next: https://zenodo.org/api/records/?sort=mostrecent&q=&communities=coacch-co-designing-the-assessment-of-climate-change-costs-h2020-project&type=dataset&page=2&size=1\n",
      "self: https://zenodo.org/api/records/?sort=mostrecent&q=&communities=coacch-co-designing-the-assessment-of-climate-change-costs-h2020-project&type=dataset&page=1&size=1\n",
      "\n"
     ]
    }
   ],
   "source": [
    "print(yaml.dump(j['links']))"
   ]
  },
  {
   "cell_type": "markdown",
   "id": "0e81e562",
   "metadata": {},
   "source": [
    "### List root-level keys and value types of the 'hits' sub dictionary\n",
    "\n",
    "Presumably, this is a list of hits returned on the current page as well as a total number of hits, which could have been classified as an 'aggregation' entry."
   ]
  },
  {
   "cell_type": "code",
   "execution_count": 176,
   "id": "c990d903",
   "metadata": {},
   "outputs": [
    {
     "name": "stdout",
     "output_type": "stream",
     "text": [
      "'hits' <class 'list'>\n",
      "'total' <class 'int'>\n"
     ]
    }
   ],
   "source": [
    "for key in j['hits']:\n",
    "    print(f\"'{key}' {type(j['hits'][key])}\")"
   ]
  },
  {
   "cell_type": "code",
   "execution_count": 162,
   "id": "e613d096",
   "metadata": {},
   "outputs": [
    {
     "data": {
      "text/plain": [
       "dict_keys(['access_right', 'access_right_category', 'communities', 'creators', 'description', 'doi', 'grants', 'keywords', 'license', 'publication_date', 'related_identifiers', 'relations', 'resource_type', 'title', 'version'])"
      ]
     },
     "execution_count": 162,
     "metadata": {},
     "output_type": "execute_result"
    }
   ],
   "source": [
    "hit = j['hits']['hits'][0]\n",
    "hit['metadata'].keys()"
   ]
  },
  {
   "cell_type": "code",
   "execution_count": 172,
   "id": "721a840d",
   "metadata": {},
   "outputs": [
    {
     "data": {
      "text/plain": [
       "'dataset'"
      ]
     },
     "execution_count": 172,
     "metadata": {},
     "output_type": "execute_result"
    }
   ],
   "source": [
    "params['type']"
   ]
  }
 ],
 "metadata": {
  "kernelspec": {
   "display_name": "Python 3 (ipykernel)",
   "language": "python",
   "name": "python3"
  },
  "language_info": {
   "codemirror_mode": {
    "name": "ipython",
    "version": 3
   },
   "file_extension": ".py",
   "mimetype": "text/x-python",
   "name": "python",
   "nbconvert_exporter": "python",
   "pygments_lexer": "ipython3",
   "version": "3.7.10"
  }
 },
 "nbformat": 4,
 "nbformat_minor": 5
}
