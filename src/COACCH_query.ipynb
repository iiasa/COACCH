{
 "cells": [
  {
   "cell_type": "code",
   "execution_count": 95,
   "id": "9df71b82",
   "metadata": {},
   "outputs": [],
   "source": [
    "import json\n",
    "import os\n",
    "import requests\n",
    "import time\n",
    "import urllib\n",
    "import yaml"
   ]
  },
  {
   "cell_type": "markdown",
   "id": "2cd0a024",
   "metadata": {},
   "source": [
    "### Helper functions"
   ]
  },
  {
   "cell_type": "code",
   "execution_count": 96,
   "id": "ee9fdc36",
   "metadata": {},
   "outputs": [],
   "source": [
    "def get_nb_hits(json_response):\n",
    "    return len(json_response['hits']['hits'])\n",
    "\n",
    "def get_next_link(json_response):\n",
    "    return json_response['links'].get('next', None)\n",
    "\n",
    "def reget(url, params=None, **kwargs):\n",
    "    \"\"\"\n",
    "    Sends a GET request and resends it with increasing delays\n",
    "    when status code 429 (too many requests) is received.\n",
    "\n",
    "    :param url: URL for the new :class:`Request` object.\n",
    "    :param params: (optional) Dictionary, list of tuples or bytes to send\n",
    "        in the query string for the :class:`Request`.\n",
    "    :param **kwargs: Optional arguments that ``request`` takes.\n",
    "    :return: :class:`Response <Response>` object\n",
    "    :rtype: requests.Response\n",
    "    \"\"\"\n",
    "    if params is None:\n",
    "        print(f\"URL: {url}\")\n",
    "    else:\n",
    "        print(f\"URL: {url}, params:\")\n",
    "        redacted_params = params\n",
    "        del redacted_params['access_token'] # don't want to leak the token\n",
    "        print(json.dumps(redacted_params, indent = 4))\n",
    "    delay = 0.0\n",
    "    while True:  \n",
    "        response = requests.get(url, params=params, **kwargs)\n",
    "        if response.status_code != 429: # not too many requests\n",
    "            return response\n",
    "        delay += 2\n",
    "        print(f\"delay: {delay}s to circumvent rate limiting...\")\n",
    "        time.sleep(delay)"
   ]
  },
  {
   "cell_type": "markdown",
   "id": "754845cc",
   "metadata": {},
   "source": [
    "### Query with one page per hit\n",
    "\n",
    "The query string uses [elastic search syntax](https://www.elastic.co/guide/en/elasticsearch/reference/current/query-dsl-query-string-query.html#query-string-syntax)."
   ]
  },
  {
   "cell_type": "code",
   "execution_count": 97,
   "id": "bd1e44cf",
   "metadata": {},
   "outputs": [
    {
     "name": "stdout",
     "output_type": "stream",
     "text": [
      "URL: https://zenodo.org/api/records, params:\n",
      "{\n",
      "    \"q\": \"\",\n",
      "    \"type\": \"publication\",\n",
      "    \"communities\": \"coacch-co-designing-the-assessment-of-climate-change-costs-h2020-project\",\n",
      "    \"size\": 1,\n",
      "    \"page\": 1\n",
      "}\n"
     ]
    }
   ],
   "source": [
    "query = \"\"\n",
    "params = {\n",
    "    'q': urllib.parse.quote(query),\n",
    "    'type': 'publication',\n",
    "    #'type': 'dataset',\n",
    "    'communities': \"coacch-co-designing-the-assessment-of-climate-change-costs-h2020-project\",\n",
    "    'size': 1, # hits per page\n",
    "    'page': 1,\n",
    "    'access_token': os.environ['ZENODO_API_TOKEN']\n",
    "}\n",
    "response = reget(\"https://zenodo.org/api/records\", params = params)\n",
    "assert response.status_code == 200 # success\n",
    "j = response.json()\n",
    "assert len(j['hits']['hits']) == 1 # yup, one hit on the first page"
   ]
  },
  {
   "cell_type": "markdown",
   "id": "e81c6c71",
   "metadata": {},
   "source": [
    "### List root-level keys and value types of the JSON result dictionary"
   ]
  },
  {
   "cell_type": "code",
   "execution_count": 98,
   "id": "a841ea25",
   "metadata": {},
   "outputs": [
    {
     "name": "stdout",
     "output_type": "stream",
     "text": [
      "'aggregations' <class 'dict'>\n",
      "'hits' <class 'dict'>\n",
      "'links' <class 'dict'>\n"
     ]
    }
   ],
   "source": [
    "for key in j:\n",
    "    print(f\"'{key}' {type(j[key])}\")"
   ]
  },
  {
   "cell_type": "markdown",
   "id": "433d89e1",
   "metadata": {},
   "source": [
    "### Show aggregations (aggregate data over all query hits, presumably)"
   ]
  },
  {
   "cell_type": "code",
   "execution_count": 99,
   "id": "6a524736",
   "metadata": {},
   "outputs": [
    {
     "name": "stdout",
     "output_type": "stream",
     "text": [
      "access_right:\n",
      "  buckets:\n",
      "  - doc_count: 21\n",
      "    key: open\n",
      "  - doc_count: 1\n",
      "    key: restricted\n",
      "  doc_count_error_upper_bound: 0\n",
      "  sum_other_doc_count: 0\n",
      "file_type:\n",
      "  buckets:\n",
      "  - doc_count: 19\n",
      "    key: pdf\n",
      "  - doc_count: 1\n",
      "    key: csv\n",
      "  - doc_count: 1\n",
      "    key: docx\n",
      "  - doc_count: 1\n",
      "    key: xlsx\n",
      "  - doc_count: 1\n",
      "    key: zip\n",
      "  doc_count_error_upper_bound: 0\n",
      "  sum_other_doc_count: 0\n",
      "keywords:\n",
      "  buckets:\n",
      "  - doc_count: 1\n",
      "    key: COACCH\n",
      "  - doc_count: 1\n",
      "    key: Climate change mitigation; Electricity; Europe; Risk; Capital costs\n",
      "  - doc_count: 1\n",
      "    key: Climate-change impacts, Geology\n",
      "  - doc_count: 1\n",
      "    key: Coastal cities\n",
      "  - doc_count: 1\n",
      "    key: Damage risk\n",
      "  - doc_count: 1\n",
      "    key: ERA-5\n",
      "  - doc_count: 1\n",
      "    key: Ice-sheet melting risk\n",
      "  - doc_count: 1\n",
      "    key: Probabilistic projections\n",
      "  - doc_count: 1\n",
      "    key: Regional sea-level rise\n",
      "  - doc_count: 1\n",
      "    key: Regional sea-level rise; Coastal cities; Damage risk; Probabilistic projections;\n",
      "      Ice-sheet melting risk; Unmitigated scenarios\n",
      "  doc_count_error_upper_bound: 0\n",
      "  sum_other_doc_count: 12\n",
      "type:\n",
      "  buckets:\n",
      "  - doc_count: 19\n",
      "    key: publication\n",
      "    subtype:\n",
      "      buckets:\n",
      "      - doc_count: 19\n",
      "        key: article\n",
      "      doc_count_error_upper_bound: 0\n",
      "      sum_other_doc_count: 0\n",
      "  - doc_count: 2\n",
      "    key: dataset\n",
      "    subtype:\n",
      "      buckets: []\n",
      "      doc_count_error_upper_bound: 0\n",
      "      sum_other_doc_count: 0\n",
      "  - doc_count: 1\n",
      "    key: poster\n",
      "    subtype:\n",
      "      buckets: []\n",
      "      doc_count_error_upper_bound: 0\n",
      "      sum_other_doc_count: 0\n",
      "  doc_count_error_upper_bound: 0\n",
      "  sum_other_doc_count: 0\n",
      "\n"
     ]
    }
   ],
   "source": [
    "print(yaml.dump(j['aggregations']))"
   ]
  },
  {
   "cell_type": "markdown",
   "id": "c0a81859",
   "metadata": {},
   "source": [
    "### Show links (navigation links on this page, presumably)"
   ]
  },
  {
   "cell_type": "code",
   "execution_count": 100,
   "id": "53d52bab",
   "metadata": {},
   "outputs": [
    {
     "name": "stdout",
     "output_type": "stream",
     "text": [
      "next: https://zenodo.org/api/records/?sort=mostrecent&q=&communities=coacch-co-designing-the-assessment-of-climate-change-costs-h2020-project&type=publication&page=2&size=1\n",
      "self: https://zenodo.org/api/records/?sort=mostrecent&q=&communities=coacch-co-designing-the-assessment-of-climate-change-costs-h2020-project&type=publication&page=1&size=1\n",
      "\n"
     ]
    }
   ],
   "source": [
    "print(yaml.dump(j['links']))"
   ]
  },
  {
   "cell_type": "markdown",
   "id": "10e1ff1c",
   "metadata": {},
   "source": [
    "### List root-level keys and value types of the 'hits' sub dictionary\n",
    "\n",
    "Presumably, this is a list of hits returned on the current page as well as a total number of hits, which could have been classified as an 'aggregation' entry."
   ]
  },
  {
   "cell_type": "code",
   "execution_count": 101,
   "id": "07ca1d75",
   "metadata": {},
   "outputs": [
    {
     "name": "stdout",
     "output_type": "stream",
     "text": [
      "'hits' <class 'list'>\n",
      "'total' <class 'int'>\n"
     ]
    }
   ],
   "source": [
    "for key in j['hits']:\n",
    "    print(f\"'{key}' {type(j['hits'][key])}\")"
   ]
  },
  {
   "cell_type": "markdown",
   "id": "55708357",
   "metadata": {},
   "source": [
    "### Show hit (present on this page, presumably)\n",
    "\n",
    "Since the page size is 1, we can zero-index the single hit on this page."
   ]
  },
  {
   "cell_type": "code",
   "execution_count": 102,
   "id": "d7e0df12",
   "metadata": {},
   "outputs": [
    {
     "name": "stdout",
     "output_type": "stream",
     "text": [
      "conceptrecid: '4627388'\n",
      "created: '2021-03-22T14:49:58.807034+00:00'\n",
      "doi: 10.5194/nhess-21-1011-2021\n",
      "files:\n",
      "- bucket: ddafa051-80e7-4075-bd90-004dacd76e89\n",
      "  checksum: md5:95b81a41673954a8ae351ab0a01b5cf9\n",
      "  key: nhess-21-1011-2021.pdf\n",
      "  links:\n",
      "    self: https://zenodo.org/api/files/ddafa051-80e7-4075-bd90-004dacd76e89/nhess-21-1011-2021.pdf\n",
      "  size: 5622111\n",
      "  type: pdf\n",
      "id: 4627389\n",
      "links:\n",
      "  badge: https://zenodo.org/badge/doi/10.5194/nhess-21-1011-2021.svg\n",
      "  bucket: https://zenodo.org/api/files/ddafa051-80e7-4075-bd90-004dacd76e89\n",
      "  doi: https://doi.org/10.5194/nhess-21-1011-2021\n",
      "  html: https://zenodo.org/record/4627389\n",
      "  latest: https://zenodo.org/api/records/4627389\n",
      "  latest_html: https://zenodo.org/record/4627389\n",
      "  self: https://zenodo.org/api/records/4627389\n",
      "metadata:\n",
      "  access_right: open\n",
      "  access_right_category: success\n",
      "  communities:\n",
      "  - id: coacch-co-designing-the-assessment-of-climate-change-costs-h2020-project\n",
      "  creators:\n",
      "  - affiliation: Deltares, VU University\n",
      "    name: van Ginkel, Kees\n",
      "    orcid: 0000-0002-8162-221X\n",
      "  - affiliation: JRC\n",
      "    name: Dottori, Francesco\n",
      "  - affiliation: JRC, Cima Research Foundations\n",
      "    name: Alfieri, Lorenzo\n",
      "    orcid: 0000-0002-1388-3303\n",
      "  - affiliation: JRC\n",
      "    name: Feyen, Luc\n",
      "  - affiliation: VU University, Oxford University\n",
      "    name: Koks, Elco\n",
      "    orcid: 0000-0002-4953-4527\n",
      "  description: <p>River floods pose a significant threat to road transport infrastructure\n",
      "    in Europe. This study presents a high-resolution object-based continental-scale\n",
      "    assessment of direct flood risk of the European road network for the present climate,\n",
      "    using high-resolution exposure data from OpenStreetMap. A new set of road-specific\n",
      "    damage functions is developed. The expected annual direct damage from large river\n",
      "    floods to road infrastructure in Europe is EUR&thinsp;230&nbsp;million per year.\n",
      "    Compared to grid-based approaches, the object-based approach is more precise and\n",
      "    provides more action perspective for road owners because it calculates damage\n",
      "    directly for individual road segments while accounting for segment-specific attributes.\n",
      "    This enables the identification of European hotspots, such as roads in the Alps\n",
      "    and along the Sava River. A first comparison to a reference case shows that the\n",
      "    new object-based method computes realistic damage estimates, paving the way for\n",
      "    targeted risk reduction strategies.</p>\n",
      "  doi: 10.5194/nhess-21-1011-2021\n",
      "  grants:\n",
      "  - acronym: COACCH\n",
      "    code: '776479'\n",
      "    funder:\n",
      "      acronyms: []\n",
      "      doi: 10.13039/501100000780\n",
      "      links:\n",
      "        self: https://zenodo.org/api/funders/10.13039/501100000780\n",
      "      name: European Commission\n",
      "    links:\n",
      "      self: https://zenodo.org/api/grants/10.13039/501100000780::776479\n",
      "    program: H2020\n",
      "    title: CO-designing the Assessment of Climate CHange costs\n",
      "  license:\n",
      "    id: CC-BY-4.0\n",
      "  publication_date: '2021-03-15'\n",
      "  related_identifiers:\n",
      "  - identifier: 10.5281/zenodo.4588800\n",
      "    relation: isSupplementedBy\n",
      "    resource_type: software\n",
      "    scheme: doi\n",
      "  relations:\n",
      "    version:\n",
      "    - count: 1\n",
      "      index: 0\n",
      "      is_last: true\n",
      "      last_child:\n",
      "        pid_type: recid\n",
      "        pid_value: '4627389'\n",
      "      parent:\n",
      "        pid_type: recid\n",
      "        pid_value: '4627388'\n",
      "  resource_type:\n",
      "    subtype: article\n",
      "    title: Journal article\n",
      "    type: publication\n",
      "  title: Flood risk assessment of the European road network\n",
      "owners:\n",
      "- 89317\n",
      "revision: 3\n",
      "stats:\n",
      "  downloads: 38.0\n",
      "  unique_downloads: 33.0\n",
      "  unique_views: 34.0\n",
      "  version_downloads: 38.0\n",
      "  version_unique_downloads: 33.0\n",
      "  version_unique_views: 35.0\n",
      "  version_views: 40.0\n",
      "  version_volume: 213640218.0\n",
      "  views: 39.0\n",
      "  volume: 213640218.0\n",
      "updated: '2021-03-23T12:27:21.732627+00:00'\n",
      "\n"
     ]
    }
   ],
   "source": [
    "print(yaml.dump(j['hits']['hits'][0]))"
   ]
  },
  {
   "cell_type": "markdown",
   "id": "9f04ef52",
   "metadata": {},
   "source": [
    "### Define a function to custom-process each hit"
   ]
  },
  {
   "cell_type": "code",
   "execution_count": 127,
   "id": "888df9aa",
   "metadata": {},
   "outputs": [],
   "source": [
    "def process_hit(hit):\n",
    "    print(f\"Title: {hit['metadata']['title']}\")\n",
    "    # Define a templatedReST page for  the hit,\n",
    "    page = f\"\"\"\n",
    "`{hit['metadata']['title']} <{hit['links']['html']}>`_\n",
    "{'=' * (len(hit['metadata']['title']) + len(hit['links']['html']) + 6)}\n",
    "\n",
    ".. image:: {hit['links']['badge']}\n",
    "   :target: {hit['links']['doi']}\n",
    "\n",
    "Description:\n",
    "------------\n",
    "\n",
    ".. raw:: html\n",
    "\n",
    "    <embed>\n",
    "        {hit['metadata']['description']}\n",
    "    </embed>\n",
    "    \n",
    "Socio-economic and environmental impacts of gradual climate change on agriculture, forestry and fisheries calculated using the GLOBIOM model\n",
    "\n",
    "Authors: Boere, Esther\n",
    "\n",
    ".. meta::\n",
    "   :keywords: gradual climate change, agriculture, forestry, partial-equilibrium, socio-economic, COACCH\n",
    "    \"\"\"\n",
    "    # Write ReST page, basing the filename on the Zenodo ID\n",
    "    with open(f\"../docs/publications/{hit['id']}.rst\", \"w\") as rst:\n",
    "        rst.write(page)"
   ]
  },
  {
   "cell_type": "markdown",
   "id": "e5b6cd8d",
   "metadata": {},
   "source": [
    "### Process each hit, getting the next page/hit every iteration"
   ]
  },
  {
   "cell_type": "code",
   "execution_count": 128,
   "id": "5898976e",
   "metadata": {},
   "outputs": [
    {
     "name": "stdout",
     "output_type": "stream",
     "text": [
      "Title: Flood risk assessment of the European road network\n",
      "URL: https://zenodo.org/api/records/?sort=mostrecent&q=&communities=coacch-co-designing-the-assessment-of-climate-change-costs-h2020-project&type=publication&page=2&size=1\n",
      "Title: A global analysis of subsidence, relative sea-level change and coastal flood exposure\n",
      "URL: https://zenodo.org/api/records/?sort=mostrecent&q=&communities=coacch-co-designing-the-assessment-of-climate-change-costs-h2020-project&type=publication&page=3&size=1\n",
      "Title: Regional Inequalities in Flood Insurance Affordability and Uptake under Climate Change\n",
      "URL: https://zenodo.org/api/records/?sort=mostrecent&q=&communities=coacch-co-designing-the-assessment-of-climate-change-costs-h2020-project&type=publication&page=4&size=1\n",
      "Title: The ongoing nutrition transition thwarts long-term targets for food security, public health and environmental protection\n",
      "URL: https://zenodo.org/api/records/?sort=mostrecent&q=&communities=coacch-co-designing-the-assessment-of-climate-change-costs-h2020-project&type=publication&page=5&size=1\n",
      "Title: Examining the precipitation associated with medicanes in the high-resolution ERA-5 reanalysis data\n",
      "URL: https://zenodo.org/api/records/?sort=mostrecent&q=&communities=coacch-co-designing-the-assessment-of-climate-change-costs-h2020-project&type=publication&page=6&size=1\n",
      "Title: CLIMRISK-RIVER: Accounting for local river flood risk in estimating the economic cost of climate change\n",
      "URL: https://zenodo.org/api/records/?sort=mostrecent&q=&communities=coacch-co-designing-the-assessment-of-climate-change-costs-h2020-project&type=publication&page=7&size=1\n",
      "Title: Economic valuation of climate change induced mortality: Age dependent cold and heat mortality in the Netherlands.\n",
      "URL: https://zenodo.org/api/records/?sort=mostrecent&q=&communities=coacch-co-designing-the-assessment-of-climate-change-costs-h2020-project&type=publication&page=8&size=1\n",
      "Title: Comparing urban coastal flood risk in 136 cities under two alternative sea-level projections: RCP 8.5 and an expert opinion-based high-end scenario\n",
      "URL: https://zenodo.org/api/records/?sort=mostrecent&q=&communities=coacch-co-designing-the-assessment-of-climate-change-costs-h2020-project&type=publication&page=9&size=1\n",
      "Title: The Costs of Sea-Level Rise: Coastal Adaptation Investments vs Inaction in Iberian Coastal Cities\n",
      "URL: https://zenodo.org/api/records/?sort=mostrecent&q=&communities=coacch-co-designing-the-assessment-of-climate-change-costs-h2020-project&type=publication&page=10&size=1\n",
      "Title: Heavy Daily Precipitation Events in the CMIP6 Worst-Case scenario: Projected Twenty-First-Century Changes\n",
      "URL: https://zenodo.org/api/records/?sort=mostrecent&q=&communities=coacch-co-designing-the-assessment-of-climate-change-costs-h2020-project&type=publication&page=11&size=1\n",
      "Title: Economy-wide effects of coastal flooding due to sea level rise: a multi-model simultaneous treatment of mitigation, adaptation, and residual impacts\n",
      "URL: https://zenodo.org/api/records/?sort=mostrecent&q=&communities=coacch-co-designing-the-assessment-of-climate-change-costs-h2020-project&type=publication&page=12&size=1\n",
      "Title: Costs or benefits? Assessing the economy-wide effects of the electricity sector's low carbon transition – The role of capital costs, divergent risk perceptions and premiums\n",
      "URL: https://zenodo.org/api/records/?sort=mostrecent&q=&communities=coacch-co-designing-the-assessment-of-climate-change-costs-h2020-project&type=publication&page=13&size=1\n",
      "Title: Climate change induced socio-economic tipping points: review and stakeholder consultation for policy relevant research\n",
      "URL: https://zenodo.org/api/records/?sort=mostrecent&q=&communities=coacch-co-designing-the-assessment-of-climate-change-costs-h2020-project&type=publication&page=14&size=1\n",
      "Title: Meeting User Needs for Sea Level Rise Information: A Decision Analysis Perspective\n"
     ]
    },
    {
     "ename": "UnicodeEncodeError",
     "evalue": "'charmap' codec can't encode character '\\u2010' in position 1097: character maps to <undefined>",
     "output_type": "error",
     "traceback": [
      "\u001b[1;31m---------------------------------------------------------------------------\u001b[0m",
      "\u001b[1;31mUnicodeEncodeError\u001b[0m                        Traceback (most recent call last)",
      "\u001b[1;32mC:\\Temp/ipykernel_11796/883764056.py\u001b[0m in \u001b[0;36m<module>\u001b[1;34m\u001b[0m\n\u001b[0;32m      8\u001b[0m     \u001b[1;32massert\u001b[0m \u001b[0mnext_response\u001b[0m\u001b[1;33m.\u001b[0m\u001b[0mstatus_code\u001b[0m \u001b[1;33m==\u001b[0m \u001b[1;36m200\u001b[0m \u001b[1;31m# success\u001b[0m\u001b[1;33m\u001b[0m\u001b[1;33m\u001b[0m\u001b[0m\n\u001b[0;32m      9\u001b[0m     \u001b[0mjn\u001b[0m \u001b[1;33m=\u001b[0m \u001b[0mnext_response\u001b[0m\u001b[1;33m.\u001b[0m\u001b[0mjson\u001b[0m\u001b[1;33m(\u001b[0m\u001b[1;33m)\u001b[0m\u001b[1;33m\u001b[0m\u001b[1;33m\u001b[0m\u001b[0m\n\u001b[1;32m---> 10\u001b[1;33m     \u001b[0mprocess_hit\u001b[0m\u001b[1;33m(\u001b[0m\u001b[0mjn\u001b[0m\u001b[1;33m[\u001b[0m\u001b[1;34m'hits'\u001b[0m\u001b[1;33m]\u001b[0m\u001b[1;33m[\u001b[0m\u001b[1;34m'hits'\u001b[0m\u001b[1;33m]\u001b[0m\u001b[1;33m[\u001b[0m\u001b[1;36m0\u001b[0m\u001b[1;33m]\u001b[0m\u001b[1;33m)\u001b[0m\u001b[1;33m\u001b[0m\u001b[1;33m\u001b[0m\u001b[0m\n\u001b[0m\u001b[0;32m     11\u001b[0m     \u001b[0mprocessed_hits\u001b[0m \u001b[1;33m+=\u001b[0m \u001b[0mget_nb_hits\u001b[0m\u001b[1;33m(\u001b[0m\u001b[0mjn\u001b[0m\u001b[1;33m)\u001b[0m\u001b[1;33m\u001b[0m\u001b[1;33m\u001b[0m\u001b[0m\n\u001b[0;32m     12\u001b[0m \u001b[1;31m# Check that processed hits equals total hits\u001b[0m\u001b[1;33m\u001b[0m\u001b[1;33m\u001b[0m\u001b[1;33m\u001b[0m\u001b[0m\n",
      "\u001b[1;32mC:\\Temp/ipykernel_11796/2494796428.py\u001b[0m in \u001b[0;36mprocess_hit\u001b[1;34m(hit)\u001b[0m\n\u001b[0;32m     27\u001b[0m     \u001b[1;31m# Write ReST page, basing the filename on the Zenodo ID\u001b[0m\u001b[1;33m\u001b[0m\u001b[1;33m\u001b[0m\u001b[1;33m\u001b[0m\u001b[0m\n\u001b[0;32m     28\u001b[0m     \u001b[1;32mwith\u001b[0m \u001b[0mopen\u001b[0m\u001b[1;33m(\u001b[0m\u001b[1;34mf\"../docs/publications/{hit['id']}.rst\"\u001b[0m\u001b[1;33m,\u001b[0m \u001b[1;34m\"w\"\u001b[0m\u001b[1;33m)\u001b[0m \u001b[1;32mas\u001b[0m \u001b[0mrst\u001b[0m\u001b[1;33m:\u001b[0m\u001b[1;33m\u001b[0m\u001b[1;33m\u001b[0m\u001b[0m\n\u001b[1;32m---> 29\u001b[1;33m         \u001b[0mrst\u001b[0m\u001b[1;33m.\u001b[0m\u001b[0mwrite\u001b[0m\u001b[1;33m(\u001b[0m\u001b[0mpage\u001b[0m\u001b[1;33m)\u001b[0m\u001b[1;33m\u001b[0m\u001b[1;33m\u001b[0m\u001b[0m\n\u001b[0m",
      "\u001b[1;32mE:\\tools\\Anaconda3\\lib\\encodings\\cp1252.py\u001b[0m in \u001b[0;36mencode\u001b[1;34m(self, input, final)\u001b[0m\n\u001b[0;32m     17\u001b[0m \u001b[1;32mclass\u001b[0m \u001b[0mIncrementalEncoder\u001b[0m\u001b[1;33m(\u001b[0m\u001b[0mcodecs\u001b[0m\u001b[1;33m.\u001b[0m\u001b[0mIncrementalEncoder\u001b[0m\u001b[1;33m)\u001b[0m\u001b[1;33m:\u001b[0m\u001b[1;33m\u001b[0m\u001b[1;33m\u001b[0m\u001b[0m\n\u001b[0;32m     18\u001b[0m     \u001b[1;32mdef\u001b[0m \u001b[0mencode\u001b[0m\u001b[1;33m(\u001b[0m\u001b[0mself\u001b[0m\u001b[1;33m,\u001b[0m \u001b[0minput\u001b[0m\u001b[1;33m,\u001b[0m \u001b[0mfinal\u001b[0m\u001b[1;33m=\u001b[0m\u001b[1;32mFalse\u001b[0m\u001b[1;33m)\u001b[0m\u001b[1;33m:\u001b[0m\u001b[1;33m\u001b[0m\u001b[1;33m\u001b[0m\u001b[0m\n\u001b[1;32m---> 19\u001b[1;33m         \u001b[1;32mreturn\u001b[0m \u001b[0mcodecs\u001b[0m\u001b[1;33m.\u001b[0m\u001b[0mcharmap_encode\u001b[0m\u001b[1;33m(\u001b[0m\u001b[0minput\u001b[0m\u001b[1;33m,\u001b[0m\u001b[0mself\u001b[0m\u001b[1;33m.\u001b[0m\u001b[0merrors\u001b[0m\u001b[1;33m,\u001b[0m\u001b[0mencoding_table\u001b[0m\u001b[1;33m)\u001b[0m\u001b[1;33m[\u001b[0m\u001b[1;36m0\u001b[0m\u001b[1;33m]\u001b[0m\u001b[1;33m\u001b[0m\u001b[1;33m\u001b[0m\u001b[0m\n\u001b[0m\u001b[0;32m     20\u001b[0m \u001b[1;33m\u001b[0m\u001b[0m\n\u001b[0;32m     21\u001b[0m \u001b[1;32mclass\u001b[0m \u001b[0mIncrementalDecoder\u001b[0m\u001b[1;33m(\u001b[0m\u001b[0mcodecs\u001b[0m\u001b[1;33m.\u001b[0m\u001b[0mIncrementalDecoder\u001b[0m\u001b[1;33m)\u001b[0m\u001b[1;33m:\u001b[0m\u001b[1;33m\u001b[0m\u001b[1;33m\u001b[0m\u001b[0m\n",
      "\u001b[1;31mUnicodeEncodeError\u001b[0m: 'charmap' codec can't encode character '\\u2010' in position 1097: character maps to <undefined>"
     ]
    }
   ],
   "source": [
    "# Process initial hit\n",
    "process_hit(j['hits']['hits'][0])\n",
    "processed_hits = get_nb_hits(j)\n",
    "# Process next hits/pages until they exhaust\n",
    "jn = j\n",
    "while get_next_link(jn): \n",
    "    next_response = reget(get_next_link(jn))\n",
    "    assert next_response.status_code == 200 # success\n",
    "    jn = next_response.json()\n",
    "    process_hit(jn['hits']['hits'][0])\n",
    "    processed_hits += get_nb_hits(jn)\n",
    "# Check that processed hits equals total hits\n",
    "assert processed_hits == j['hits']['total']"
   ]
  },
  {
   "cell_type": "code",
   "execution_count": 118,
   "id": "cc5b2397",
   "metadata": {},
   "outputs": [
    {
     "data": {
      "text/plain": [
       "3"
      ]
     },
     "execution_count": 118,
     "metadata": {},
     "output_type": "execute_result"
    }
   ],
   "source": [
    "len(\"foo\")"
   ]
  }
 ],
 "metadata": {
  "kernelspec": {
   "display_name": "Python 3 (ipykernel)",
   "language": "python",
   "name": "python3"
  },
  "language_info": {
   "codemirror_mode": {
    "name": "ipython",
    "version": 3
   },
   "file_extension": ".py",
   "mimetype": "text/x-python",
   "name": "python",
   "nbconvert_exporter": "python",
   "pygments_lexer": "ipython3",
   "version": "3.7.10"
  }
 },
 "nbformat": 4,
 "nbformat_minor": 5
}
