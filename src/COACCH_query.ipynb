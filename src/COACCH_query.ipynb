{
 "cells": [
  {
   "cell_type": "code",
   "execution_count": 137,
   "id": "9df71b82",
   "metadata": {},
   "outputs": [],
   "source": [
    "import json\n",
    "import os\n",
    "import requests\n",
    "import time\n",
    "import urllib\n",
    "import yaml"
   ]
  },
  {
   "cell_type": "markdown",
   "id": "2cd0a024",
   "metadata": {},
   "source": [
    "### Helper functions"
   ]
  },
  {
   "cell_type": "code",
   "execution_count": 138,
   "id": "ee9fdc36",
   "metadata": {},
   "outputs": [],
   "source": [
    "def get_nb_hits(json_response):\n",
    "    return len(json_response['hits']['hits'])\n",
    "\n",
    "def get_next_link(json_response):\n",
    "    return json_response['links'].get('next', None)\n",
    "\n",
    "def reget(url, params=None, **kwargs):\n",
    "    \"\"\"\n",
    "    Sends a GET request and resends it with increasing delays\n",
    "    when status code 429 (too many requests) is received.\n",
    "\n",
    "    :param url: URL for the new :class:`Request` object.\n",
    "    :param params: (optional) Dictionary, list of tuples or bytes to send\n",
    "        in the query string for the :class:`Request`.\n",
    "    :param **kwargs: Optional arguments that ``request`` takes.\n",
    "    :return: :class:`Response <Response>` object\n",
    "    :rtype: requests.Response\n",
    "    \"\"\"\n",
    "    if params is None:\n",
    "        print(f\"URL: {url}\")\n",
    "    else:\n",
    "        print(f\"URL: {url}, params:\")\n",
    "        redacted_params = params\n",
    "        del redacted_params['access_token'] # don't want to leak the token\n",
    "        print(json.dumps(redacted_params, indent = 4))\n",
    "    delay = 0.0\n",
    "    while True:  \n",
    "        response = requests.get(url, params=params, **kwargs)\n",
    "        if response.status_code != 429: # not too many requests\n",
    "            return response\n",
    "        delay += 2\n",
    "        print(f\"delay: {delay}s to circumvent rate limiting...\")\n",
    "        time.sleep(delay)"
   ]
  },
  {
   "cell_type": "markdown",
   "id": "754845cc",
   "metadata": {},
   "source": [
    "### Query with one page per hit\n",
    "\n",
    "The query string uses [elastic search syntax](https://www.elastic.co/guide/en/elasticsearch/reference/current/query-dsl-query-string-query.html#query-string-syntax)."
   ]
  },
  {
   "cell_type": "code",
   "execution_count": 139,
   "id": "bd1e44cf",
   "metadata": {},
   "outputs": [
    {
     "name": "stdout",
     "output_type": "stream",
     "text": [
      "URL: https://zenodo.org/api/records, params:\n",
      "{\n",
      "    \"q\": \"COACCH\",\n",
      "    \"type\": \"dataset\",\n",
      "    \"size\": 1,\n",
      "    \"page\": 1\n",
      "}\n"
     ]
    }
   ],
   "source": [
    "query = \"\"\n",
    "params = {\n",
    "    'q': urllib.parse.quote(query),\n",
    "    'type': 'publication',\n",
    "    #'type': 'dataset',\n",
    "    'communities': \"coacch-co-designing-the-assessment-of-climate-change-costs-h2020-project\",\n",
    "    'size': 1, # hits per page\n",
    "    'page': 1,\n",
    "    'access_token': os.environ['ZENODO_API_TOKEN']\n",
    "}\n",
    "response = reget(\"https://zenodo.org/api/records\", params = params)\n",
    "assert response.status_code == 200 # success\n",
    "j = response.json()\n",
    "assert len(j['hits']['hits']) == 1 # yup, one hit on the first page"
   ]
  },
  {
   "cell_type": "markdown",
   "id": "4f4fca5a",
   "metadata": {},
   "source": [
    "### List root-level keys and value types of the JSON result dictionary"
   ]
  },
  {
   "cell_type": "code",
   "execution_count": 140,
   "id": "6ffb9137",
   "metadata": {},
   "outputs": [
    {
     "name": "stdout",
     "output_type": "stream",
     "text": [
      "'aggregations' <class 'dict'>\n",
      "'hits' <class 'dict'>\n",
      "'links' <class 'dict'>\n"
     ]
    }
   ],
   "source": [
    "for key in j:\n",
    "    print(f\"'{key}' {type(j[key])}\")"
   ]
  },
  {
   "cell_type": "markdown",
   "id": "957fbfe6",
   "metadata": {},
   "source": [
    "### Show aggregations (aggregate data over all query hits, presumably)"
   ]
  },
  {
   "cell_type": "code",
   "execution_count": 141,
   "id": "cd13a8d1",
   "metadata": {},
   "outputs": [
    {
     "name": "stdout",
     "output_type": "stream",
     "text": [
      "access_right:\n",
      "  buckets:\n",
      "  - doc_count: 21\n",
      "    key: open\n",
      "  - doc_count: 1\n",
      "    key: restricted\n",
      "  doc_count_error_upper_bound: 0\n",
      "  sum_other_doc_count: 0\n",
      "file_type:\n",
      "  buckets:\n",
      "  - doc_count: 19\n",
      "    key: pdf\n",
      "  - doc_count: 1\n",
      "    key: csv\n",
      "  - doc_count: 1\n",
      "    key: docx\n",
      "  - doc_count: 1\n",
      "    key: xlsx\n",
      "  - doc_count: 1\n",
      "    key: zip\n",
      "  doc_count_error_upper_bound: 0\n",
      "  sum_other_doc_count: 0\n",
      "keywords:\n",
      "  buckets:\n",
      "  - doc_count: 1\n",
      "    key: COACCH\n",
      "  - doc_count: 1\n",
      "    key: Climate change mitigation; Electricity; Europe; Risk; Capital costs\n",
      "  - doc_count: 1\n",
      "    key: Climate-change impacts, Geology\n",
      "  - doc_count: 1\n",
      "    key: Coastal cities\n",
      "  - doc_count: 1\n",
      "    key: Damage risk\n",
      "  - doc_count: 1\n",
      "    key: ERA-5\n",
      "  - doc_count: 1\n",
      "    key: Ice-sheet melting risk\n",
      "  - doc_count: 1\n",
      "    key: Probabilistic projections\n",
      "  - doc_count: 1\n",
      "    key: Regional sea-level rise\n",
      "  - doc_count: 1\n",
      "    key: Regional sea-level rise; Coastal cities; Damage risk; Probabilistic projections;\n",
      "      Ice-sheet melting risk; Unmitigated scenarios\n",
      "  doc_count_error_upper_bound: 0\n",
      "  sum_other_doc_count: 12\n",
      "type:\n",
      "  buckets:\n",
      "  - doc_count: 19\n",
      "    key: publication\n",
      "    subtype:\n",
      "      buckets:\n",
      "      - doc_count: 19\n",
      "        key: article\n",
      "      doc_count_error_upper_bound: 0\n",
      "      sum_other_doc_count: 0\n",
      "  - doc_count: 2\n",
      "    key: dataset\n",
      "    subtype:\n",
      "      buckets: []\n",
      "      doc_count_error_upper_bound: 0\n",
      "      sum_other_doc_count: 0\n",
      "  - doc_count: 1\n",
      "    key: poster\n",
      "    subtype:\n",
      "      buckets: []\n",
      "      doc_count_error_upper_bound: 0\n",
      "      sum_other_doc_count: 0\n",
      "  doc_count_error_upper_bound: 0\n",
      "  sum_other_doc_count: 0\n",
      "\n"
     ]
    }
   ],
   "source": [
    "print(yaml.dump(j['aggregations']))"
   ]
  },
  {
   "cell_type": "markdown",
   "id": "84eeea7b",
   "metadata": {},
   "source": [
    "### Show links (navigation links on this page, presumably)"
   ]
  },
  {
   "cell_type": "code",
   "execution_count": 142,
   "id": "fd40352e",
   "metadata": {},
   "outputs": [
    {
     "name": "stdout",
     "output_type": "stream",
     "text": [
      "next: https://zenodo.org/api/records/?sort=bestmatch&q=COACCH&type=dataset&page=2&size=1\n",
      "self: https://zenodo.org/api/records/?sort=bestmatch&q=COACCH&type=dataset&page=1&size=1\n",
      "\n"
     ]
    }
   ],
   "source": [
    "print(yaml.dump(j['links']))"
   ]
  },
  {
   "cell_type": "markdown",
   "id": "6887ca4b",
   "metadata": {},
   "source": [
    "### List root-level keys and value types of the 'hits' sub dictionary\n",
    "\n",
    "Presumably, this is a list of hits returned on the current page as well as a total number of hits, which could have been classified as an 'aggregation' entry."
   ]
  },
  {
   "cell_type": "code",
   "execution_count": 143,
   "id": "ae0b4a90",
   "metadata": {},
   "outputs": [
    {
     "name": "stdout",
     "output_type": "stream",
     "text": [
      "'hits' <class 'list'>\n",
      "'total' <class 'int'>\n"
     ]
    }
   ],
   "source": [
    "for key in j['hits']:\n",
    "    print(f\"'{key}' {type(j['hits'][key])}\")"
   ]
  },
  {
   "cell_type": "markdown",
   "id": "431eeb22",
   "metadata": {},
   "source": [
    "### Show hit (present on this page, presumably)\n",
    "\n",
    "Since the page size is 1, we can zero-index the single hit on this page."
   ]
  },
  {
   "cell_type": "code",
   "execution_count": 144,
   "id": "81ad7bac",
   "metadata": {},
   "outputs": [
    {
     "name": "stdout",
     "output_type": "stream",
     "text": [
      "conceptdoi: 10.5281/zenodo.5513870\n",
      "conceptrecid: '5513870'\n",
      "created: '2021-09-17T14:34:15.149343+00:00'\n",
      "doi: 10.5281/zenodo.5513871\n",
      "files:\n",
      "- bucket: 4406e796-3221-4985-925e-ea43cd89ac2f\n",
      "  checksum: md5:e0bca547aed38047522dfb6f5d48e409\n",
      "  key: IIASA_ImpactChains_GLOBIOM_Data.csv\n",
      "  links:\n",
      "    self: https://zenodo.org/api/files/4406e796-3221-4985-925e-ea43cd89ac2f/IIASA_ImpactChains_GLOBIOM_Data.csv\n",
      "  size: 45626665\n",
      "  type: csv\n",
      "- bucket: 4406e796-3221-4985-925e-ea43cd89ac2f\n",
      "  checksum: md5:0c6a86f2c0bacaa674db1eb18b3fe2db\n",
      "  key: ImpactChains_GLOBIOM_MetaData.csv\n",
      "  links:\n",
      "    self: https://zenodo.org/api/files/4406e796-3221-4985-925e-ea43cd89ac2f/ImpactChains_GLOBIOM_MetaData.csv\n",
      "  size: 1705\n",
      "  type: csv\n",
      "id: 5513871\n",
      "links:\n",
      "  badge: https://zenodo.org/badge/doi/10.5281/zenodo.5513871.svg\n",
      "  bucket: https://zenodo.org/api/files/4406e796-3221-4985-925e-ea43cd89ac2f\n",
      "  conceptbadge: https://zenodo.org/badge/doi/10.5281/zenodo.5513870.svg\n",
      "  conceptdoi: https://doi.org/10.5281/zenodo.5513870\n",
      "  doi: https://doi.org/10.5281/zenodo.5513871\n",
      "  html: https://zenodo.org/record/5513871\n",
      "  latest: https://zenodo.org/api/records/5513871\n",
      "  latest_html: https://zenodo.org/record/5513871\n",
      "  self: https://zenodo.org/api/records/5513871\n",
      "metadata:\n",
      "  access_right: open\n",
      "  access_right_category: success\n",
      "  communities:\n",
      "  - id: coacch-co-designing-the-assessment-of-climate-change-costs-h2020-project\n",
      "  creators:\n",
      "  - affiliation: IIASA\n",
      "    name: Boere, Esther\n",
      "  description: <p>Socio-economic and environmental impacts&nbsp;of gradual climate\n",
      "    change on agriculture, forestry and fisheries calculated using the GLOBIOM model</p>\n",
      "  doi: 10.5281/zenodo.5513871\n",
      "  grants:\n",
      "  - acronym: COACCH\n",
      "    code: '776479'\n",
      "    funder:\n",
      "      acronyms: []\n",
      "      doi: 10.13039/501100000780\n",
      "      links:\n",
      "        self: https://zenodo.org/api/funders/10.13039/501100000780\n",
      "      name: European Commission\n",
      "    links:\n",
      "      self: https://zenodo.org/api/grants/10.13039/501100000780::776479\n",
      "    program: H2020\n",
      "    title: CO-designing the Assessment of Climate CHange costs\n",
      "  keywords:\n",
      "  - gradual climate change\n",
      "  - agriculture\n",
      "  - forestry\n",
      "  - partial-equilibrium\n",
      "  - socio-economic\n",
      "  - COACCH\n",
      "  license:\n",
      "    id: CC-BY-4.0\n",
      "  publication_date: '2021-09-17'\n",
      "  related_identifiers:\n",
      "  - identifier: 10.5281/zenodo.5513870\n",
      "    relation: isVersionOf\n",
      "    scheme: doi\n",
      "  relations:\n",
      "    version:\n",
      "    - count: 1\n",
      "      index: 0\n",
      "      is_last: true\n",
      "      last_child:\n",
      "        pid_type: recid\n",
      "        pid_value: '5513871'\n",
      "      parent:\n",
      "        pid_type: recid\n",
      "        pid_value: '5513870'\n",
      "  resource_type:\n",
      "    title: Dataset\n",
      "    type: dataset\n",
      "  title: ImpactChains_GLOBIOM\n",
      "  version: '1'\n",
      "owners:\n",
      "- 254532\n",
      "revision: 4\n",
      "stats:\n",
      "  downloads: 12.0\n",
      "  unique_downloads: 6.0\n",
      "  unique_views: 11.0\n",
      "  version_downloads: 12.0\n",
      "  version_unique_downloads: 6.0\n",
      "  version_unique_views: 11.0\n",
      "  version_views: 22.0\n",
      "  version_volume: 547519980.0\n",
      "  views: 22.0\n",
      "  volume: 547519980.0\n",
      "updated: '2021-09-18T01:48:33.327708+00:00'\n",
      "\n"
     ]
    }
   ],
   "source": [
    "print(yaml.dump(j['hits']['hits'][0]))"
   ]
  },
  {
   "cell_type": "markdown",
   "id": "22e86a40",
   "metadata": {},
   "source": [
    "### Define a function to custom-process each hit"
   ]
  },
  {
   "cell_type": "code",
   "execution_count": 129,
   "id": "adc9d129",
   "metadata": {},
   "outputs": [],
   "source": [
    "def process_hit(hit):\n",
    "    print(f\"Title: {hit['metadata']['title']}\")\n",
    "    # Define a templatedReST page for  the hit,\n",
    "    page = f\"\"\"\n",
    "`{hit['metadata']['title']} <{hit['links']['html']}>`_\n",
    "{'=' * (len(hit['metadata']['title']) + len(hit['links']['html']) + 6)}\n",
    "\n",
    ".. image:: {hit['links']['badge']}\n",
    "   :target: {hit['links']['doi']}\n",
    "\n",
    "Description:\n",
    "------------\n",
    "\n",
    ".. raw:: html\n",
    "\n",
    "    <embed>\n",
    "        {hit['metadata']['description']}\n",
    "    </embed>\n",
    "    \n",
    "Socio-economic and environmental impacts of gradual climate change on agriculture, forestry and fisheries calculated using the GLOBIOM model\n",
    "\n",
    "Authors:\n",
    "--------\n",
    "{'; '.join([creator['name'] for creator in hit['metadata']['creators']])}\n",
    "\n",
    ".. meta::\n",
    "   :keywords: {'' if 'keywords' not in hit['metadata'] else ', '.join([keyword for keyword in hit['metadata']['keywords']])}\n",
    "    \"\"\"\n",
    "    # Write ReST page, basing the filename on the Zenodo ID\n",
    "    with open(f\"../docs/publications/{hit['id']}.rst\", \"w\", encoding = 'utf-8') as rst:\n",
    "        rst.write(page)"
   ]
  },
  {
   "cell_type": "markdown",
   "id": "e5b6cd8d",
   "metadata": {},
   "source": [
    "### Process each hit, getting the next page/hit every iteration"
   ]
  },
  {
   "cell_type": "code",
   "execution_count": 130,
   "id": "5898976e",
   "metadata": {},
   "outputs": [
    {
     "name": "stdout",
     "output_type": "stream",
     "text": [
      "Title: Flood risk assessment of the European road network\n",
      "URL: https://zenodo.org/api/records/?sort=mostrecent&q=&communities=coacch-co-designing-the-assessment-of-climate-change-costs-h2020-project&type=publication&page=2&size=1\n",
      "Title: A global analysis of subsidence, relative sea-level change and coastal flood exposure\n",
      "URL: https://zenodo.org/api/records/?sort=mostrecent&q=&communities=coacch-co-designing-the-assessment-of-climate-change-costs-h2020-project&type=publication&page=3&size=1\n",
      "Title: Regional Inequalities in Flood Insurance Affordability and Uptake under Climate Change\n",
      "URL: https://zenodo.org/api/records/?sort=mostrecent&q=&communities=coacch-co-designing-the-assessment-of-climate-change-costs-h2020-project&type=publication&page=4&size=1\n",
      "Title: The ongoing nutrition transition thwarts long-term targets for food security, public health and environmental protection\n",
      "URL: https://zenodo.org/api/records/?sort=mostrecent&q=&communities=coacch-co-designing-the-assessment-of-climate-change-costs-h2020-project&type=publication&page=5&size=1\n",
      "Title: Examining the precipitation associated with medicanes in the high-resolution ERA-5 reanalysis data\n",
      "URL: https://zenodo.org/api/records/?sort=mostrecent&q=&communities=coacch-co-designing-the-assessment-of-climate-change-costs-h2020-project&type=publication&page=6&size=1\n",
      "Title: CLIMRISK-RIVER: Accounting for local river flood risk in estimating the economic cost of climate change\n",
      "URL: https://zenodo.org/api/records/?sort=mostrecent&q=&communities=coacch-co-designing-the-assessment-of-climate-change-costs-h2020-project&type=publication&page=7&size=1\n",
      "Title: Economic valuation of climate change induced mortality: Age dependent cold and heat mortality in the Netherlands.\n",
      "URL: https://zenodo.org/api/records/?sort=mostrecent&q=&communities=coacch-co-designing-the-assessment-of-climate-change-costs-h2020-project&type=publication&page=8&size=1\n",
      "Title: Comparing urban coastal flood risk in 136 cities under two alternative sea-level projections: RCP 8.5 and an expert opinion-based high-end scenario\n",
      "URL: https://zenodo.org/api/records/?sort=mostrecent&q=&communities=coacch-co-designing-the-assessment-of-climate-change-costs-h2020-project&type=publication&page=9&size=1\n",
      "Title: The Costs of Sea-Level Rise: Coastal Adaptation Investments vs Inaction in Iberian Coastal Cities\n",
      "URL: https://zenodo.org/api/records/?sort=mostrecent&q=&communities=coacch-co-designing-the-assessment-of-climate-change-costs-h2020-project&type=publication&page=10&size=1\n",
      "Title: Heavy Daily Precipitation Events in the CMIP6 Worst-Case scenario: Projected Twenty-First-Century Changes\n",
      "URL: https://zenodo.org/api/records/?sort=mostrecent&q=&communities=coacch-co-designing-the-assessment-of-climate-change-costs-h2020-project&type=publication&page=11&size=1\n",
      "Title: Economy-wide effects of coastal flooding due to sea level rise: a multi-model simultaneous treatment of mitigation, adaptation, and residual impacts\n",
      "URL: https://zenodo.org/api/records/?sort=mostrecent&q=&communities=coacch-co-designing-the-assessment-of-climate-change-costs-h2020-project&type=publication&page=12&size=1\n",
      "Title: Costs or benefits? Assessing the economy-wide effects of the electricity sector's low carbon transition – The role of capital costs, divergent risk perceptions and premiums\n",
      "URL: https://zenodo.org/api/records/?sort=mostrecent&q=&communities=coacch-co-designing-the-assessment-of-climate-change-costs-h2020-project&type=publication&page=13&size=1\n",
      "Title: Climate change induced socio-economic tipping points: review and stakeholder consultation for policy relevant research\n",
      "URL: https://zenodo.org/api/records/?sort=mostrecent&q=&communities=coacch-co-designing-the-assessment-of-climate-change-costs-h2020-project&type=publication&page=14&size=1\n",
      "Title: Meeting User Needs for Sea Level Rise Information: A Decision Analysis Perspective\n",
      "URL: https://zenodo.org/api/records/?sort=mostrecent&q=&communities=coacch-co-designing-the-assessment-of-climate-change-costs-h2020-project&type=publication&page=15&size=1\n",
      "Title: Risk measures and the distribution of damage curves for 600 European coastal cities\n",
      "URL: https://zenodo.org/api/records/?sort=mostrecent&q=&communities=coacch-co-designing-the-assessment-of-climate-change-costs-h2020-project&type=publication&page=16&size=1\n",
      "Title: MAgPIE 4 - a modular open-source framework for modeling global land systems\n",
      "URL: https://zenodo.org/api/records/?sort=mostrecent&q=&communities=coacch-co-designing-the-assessment-of-climate-change-costs-h2020-project&type=publication&page=17&size=1\n",
      "Title: Extreme Precipitation Events over North-Western Europe: getting water from the tropics.\n",
      "URL: https://zenodo.org/api/records/?sort=mostrecent&q=&communities=coacch-co-designing-the-assessment-of-climate-change-costs-h2020-project&type=publication&page=18&size=1\n",
      "Title: The Economic Impacts of Natural Disasters: A Review of Models and Empirical Studies\n",
      "URL: https://zenodo.org/api/records/?sort=mostrecent&q=&communities=coacch-co-designing-the-assessment-of-climate-change-costs-h2020-project&type=publication&page=19&size=1\n",
      "Title: An assessment of best practices of extreme weather insurance and directions for a more resilient society\n"
     ]
    }
   ],
   "source": [
    "# Process initial hit\n",
    "process_hit(j['hits']['hits'][0])\n",
    "processed_hits = get_nb_hits(j)\n",
    "# Process next hits/pages until they exhaust\n",
    "jn = j\n",
    "while get_next_link(jn): \n",
    "    next_response = reget(get_next_link(jn))\n",
    "    assert next_response.status_code == 200 # success\n",
    "    jn = next_response.json()\n",
    "    process_hit(jn['hits']['hits'][0])\n",
    "    processed_hits += get_nb_hits(jn)\n",
    "# Check that processed hits equals total hits\n",
    "assert processed_hits == j['hits']['total']"
   ]
  },
  {
   "cell_type": "code",
   "execution_count": 162,
   "id": "70d23b5f",
   "metadata": {},
   "outputs": [
    {
     "data": {
      "text/plain": [
       "dict_keys(['access_right', 'access_right_category', 'communities', 'creators', 'description', 'doi', 'grants', 'keywords', 'license', 'publication_date', 'related_identifiers', 'relations', 'resource_type', 'title', 'version'])"
      ]
     },
     "execution_count": 162,
     "metadata": {},
     "output_type": "execute_result"
    }
   ],
   "source": [
    "hit = j['hits']['hits'][0]\n",
    "hit['metadata'].keys()"
   ]
  },
  {
   "cell_type": "code",
   "execution_count": 163,
   "id": "31c5b5ec",
   "metadata": {},
   "outputs": [
    {
     "data": {
      "text/plain": [
       "'gradual climate change, agriculture, forestry, partial-equilibrium, socio-economic, COACCH'"
      ]
     },
     "execution_count": 163,
     "metadata": {},
     "output_type": "execute_result"
    }
   ],
   "source": [
    "'' if 'keywords' not in hit['metadata'] else ', '.join([keyword for keyword in hit['metadata']['keywords']])"
   ]
  }
 ],
 "metadata": {
  "kernelspec": {
   "display_name": "Python 3 (ipykernel)",
   "language": "python",
   "name": "python3"
  },
  "language_info": {
   "codemirror_mode": {
    "name": "ipython",
    "version": 3
   },
   "file_extension": ".py",
   "mimetype": "text/x-python",
   "name": "python",
   "nbconvert_exporter": "python",
   "pygments_lexer": "ipython3",
   "version": "3.7.10"
  }
 },
 "nbformat": 4,
 "nbformat_minor": 5
}
