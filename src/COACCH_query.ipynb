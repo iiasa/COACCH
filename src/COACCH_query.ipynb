{
 "cells": [
  {
   "cell_type": "code",
   "execution_count": 1,
   "id": "9df71b82",
   "metadata": {},
   "outputs": [],
   "source": [
    "import json\n",
    "import os\n",
    "import requests\n",
    "import time\n",
    "import urllib\n",
    "import yaml"
   ]
  },
  {
   "cell_type": "markdown",
   "id": "2cd0a024",
   "metadata": {},
   "source": [
    "### Helper functions"
   ]
  },
  {
   "cell_type": "code",
   "execution_count": 2,
   "id": "ee9fdc36",
   "metadata": {},
   "outputs": [],
   "source": [
    "def get_nb_hits(json_response):\n",
    "    return len(json_response['hits']['hits'])\n",
    "\n",
    "def get_next_link(json_response):\n",
    "    return json_response['links'].get('next', None)\n",
    "\n",
    "def reget(url, params=None, **kwargs):\n",
    "    \"\"\"\n",
    "    Sends a GET request and resends it with increasing delays\n",
    "    when status code 429 (too many requests) is received.\n",
    "\n",
    "    :param url: URL for the new :class:`Request` object.\n",
    "    :param params: (optional) Dictionary, list of tuples or bytes to send\n",
    "        in the query string for the :class:`Request`.\n",
    "    :param **kwargs: Optional arguments that ``request`` takes.\n",
    "    :return: :class:`Response <Response>` object\n",
    "    :rtype: requests.Response\n",
    "    \"\"\"\n",
    "    if params is None:\n",
    "        print(f\"URL: {url}\")\n",
    "    else:\n",
    "        print(f\"URL: {url}, params:\")\n",
    "        redacted_params = params\n",
    "        del redacted_params['access_token'] # don't want to leak the token\n",
    "        print(json.dumps(redacted_params, indent = 4))\n",
    "    delay = 0.0\n",
    "    while True:  \n",
    "        response = requests.get(url, params=params, **kwargs)\n",
    "        if response.status_code != 429: # not too many requests\n",
    "            return response\n",
    "        delay += 2\n",
    "        print(f\"delay: {delay}s to circumvent rate limiting...\")\n",
    "        time.sleep(delay)"
   ]
  },
  {
   "cell_type": "markdown",
   "id": "754845cc",
   "metadata": {},
   "source": [
    "### Query with one page per hit\n",
    "\n",
    "The query string uses [elastic search syntax](https://www.elastic.co/guide/en/elasticsearch/reference/current/query-dsl-query-string-query.html#query-string-syntax)."
   ]
  },
  {
   "cell_type": "code",
   "execution_count": 3,
   "id": "bd1e44cf",
   "metadata": {},
   "outputs": [
    {
     "name": "stdout",
     "output_type": "stream",
     "text": [
      "URL: https://zenodo.org/api/records, params:\n",
      "{\n",
      "    \"q\": \"\",\n",
      "    \"type\": \"dataset\",\n",
      "    \"communities\": \"coacch-co-designing-the-assessment-of-climate-change-costs-h2020-project\",\n",
      "    \"size\": 1,\n",
      "    \"page\": 1\n",
      "}\n"
     ]
    }
   ],
   "source": [
    "query = \"\"\n",
    "params = {\n",
    "    'q': urllib.parse.quote(query),\n",
    "    #'type': 'publication',\n",
    "    'type': 'dataset',\n",
    "    'communities': \"coacch-co-designing-the-assessment-of-climate-change-costs-h2020-project\",\n",
    "    'size': 1, # hits per page\n",
    "    'page': 1,\n",
    "    'access_token': os.environ['ZENODO_API_TOKEN']\n",
    "}\n",
    "response = reget(\"https://zenodo.org/api/records\", params = params)\n",
    "assert response.status_code == 200 # success\n",
    "j = response.json()\n",
    "assert len(j['hits']['hits']) == 1 # yup, one hit on the first page"
   ]
  },
  {
   "cell_type": "markdown",
   "id": "059701e3",
   "metadata": {},
   "source": [
    "### Show hit (present on this page, presumably)\n",
    "\n",
    "Since the page size is 1, we can zero-index the single hit on this page."
   ]
  },
  {
   "cell_type": "code",
   "execution_count": 4,
   "id": "77a8ae6c",
   "metadata": {},
   "outputs": [
    {
     "name": "stdout",
     "output_type": "stream",
     "text": [
      "conceptdoi: 10.5281/zenodo.5541326\n",
      "conceptrecid: '5541326'\n",
      "created: '2021-09-30T10:27:41.917833+00:00'\n",
      "doi: 10.5281/zenodo.5541327\n",
      "files:\n",
      "- bucket: caa37be2-8cb3-4fa5-be8a-b4270581b143\n",
      "  checksum: md5:374d793ec78012c868d8a27dc73edaa2\n",
      "  key: COACCH_MetaData_WP2_4_Trade_and_Supply_Chain_Shocks.csv\n",
      "  links:\n",
      "    self: https://zenodo.org/api/files/caa37be2-8cb3-4fa5-be8a-b4270581b143/COACCH_MetaData_WP2_4_Trade_and_Supply_Chain_Shocks.csv\n",
      "  size: 1175\n",
      "  type: csv\n",
      "- bucket: caa37be2-8cb3-4fa5-be8a-b4270581b143\n",
      "  checksum: md5:5f2fa447c0d765d82273c02d0b852ffa\n",
      "  key: COACCH_WP2_4_Trade_and_Supply_Chain_Shocks.csv\n",
      "  links:\n",
      "    self: https://zenodo.org/api/files/caa37be2-8cb3-4fa5-be8a-b4270581b143/COACCH_WP2_4_Trade_and_Supply_Chain_Shocks.csv\n",
      "  size: 20359322\n",
      "  type: csv\n",
      "id: 5541327\n",
      "links:\n",
      "  badge: https://zenodo.org/badge/doi/10.5281/zenodo.5541327.svg\n",
      "  bucket: https://zenodo.org/api/files/caa37be2-8cb3-4fa5-be8a-b4270581b143\n",
      "  conceptbadge: https://zenodo.org/badge/doi/10.5281/zenodo.5541326.svg\n",
      "  conceptdoi: https://doi.org/10.5281/zenodo.5541326\n",
      "  doi: https://doi.org/10.5281/zenodo.5541327\n",
      "  html: https://zenodo.org/record/5541327\n",
      "  latest: https://zenodo.org/api/records/5541327\n",
      "  latest_html: https://zenodo.org/record/5541327\n",
      "  self: https://zenodo.org/api/records/5541327\n",
      "metadata:\n",
      "  access_right: open\n",
      "  access_right_category: success\n",
      "  communities:\n",
      "  - id: coacch-co-designing-the-assessment-of-climate-change-costs-h2020-project\n",
      "  creators:\n",
      "  - affiliation: University of Graz\n",
      "    name: Borsky, Stefan\n",
      "  description: <p>Projected supply chain shocks due to extreme weather events measured\n",
      "    in annual percentage change in a country-sector&#39;s export activity compared\n",
      "    to the baseline period</p>\n",
      "  doi: 10.5281/zenodo.5541327\n",
      "  grants:\n",
      "  - acronym: COACCH\n",
      "    code: '776479'\n",
      "    funder:\n",
      "      acronyms: []\n",
      "      doi: 10.13039/501100000780\n",
      "      links:\n",
      "        self: https://zenodo.org/api/funders/10.13039/501100000780\n",
      "      name: European Commission\n",
      "    links:\n",
      "      self: https://zenodo.org/api/grants/10.13039/501100000780::776479\n",
      "    program: H2020\n",
      "    title: CO-designing the Assessment of Climate CHange costs\n",
      "  keywords:\n",
      "  - COACCH\n",
      "  - supply chains\n",
      "  - extreme weather\n",
      "  license:\n",
      "    id: CC-BY-4.0\n",
      "  publication_date: '2021-09-30'\n",
      "  related_identifiers:\n",
      "  - identifier: 10.5281/zenodo.5541326\n",
      "    relation: isVersionOf\n",
      "    scheme: doi\n",
      "  relations:\n",
      "    version:\n",
      "    - count: 1\n",
      "      index: 0\n",
      "      is_last: true\n",
      "      last_child:\n",
      "        pid_type: recid\n",
      "        pid_value: '5541327'\n",
      "      parent:\n",
      "        pid_type: recid\n",
      "        pid_value: '5541326'\n",
      "  resource_type:\n",
      "    title: Dataset\n",
      "    type: dataset\n",
      "  title: Supply Chain Shocks due to extreme weather events\n",
      "owners:\n",
      "- 256781\n",
      "revision: 2\n",
      "stats:\n",
      "  downloads: 0.0\n",
      "  unique_downloads: 0.0\n",
      "  unique_views: 0.0\n",
      "  version_downloads: 0.0\n",
      "  version_unique_downloads: 0.0\n",
      "  version_unique_views: 0.0\n",
      "  version_views: 0.0\n",
      "  version_volume: 0.0\n",
      "  views: 0.0\n",
      "  volume: 0.0\n",
      "updated: '2021-09-30T10:42:30.997637+00:00'\n",
      "\n"
     ]
    }
   ],
   "source": [
    "print(yaml.dump(j['hits']['hits'][0]))"
   ]
  },
  {
   "cell_type": "markdown",
   "id": "3bbbd94d",
   "metadata": {},
   "source": [
    "### Define a function to custom-process each hit"
   ]
  },
  {
   "cell_type": "code",
   "execution_count": 9,
   "id": "5d366d40",
   "metadata": {},
   "outputs": [],
   "source": [
    "def process_hit(hit):\n",
    "    \"\"\"\n",
    "    Process a query hit and generate a ReST page.\n",
    "    \"\"\"\n",
    "    print(f\"Title: {hit['metadata']['title']}\")\n",
    "    # Define a templatedReST page for  the hit,\n",
    "    page = f\"\"\"\n",
    "`{hit['metadata']['title']} <{hit['links']['html']}>`_\n",
    "{'=' * (len(hit['metadata']['title']) + len(hit['links']['html']) + 6)}\n",
    "\n",
    ".. image:: {hit['links']['badge']}\n",
    "   :target: {hit['links']['doi']}\n",
    "\n",
    "Description:\n",
    "------------\n",
    "\n",
    "{hit['metadata']['description']}\n",
    "\n",
    "Authors:\n",
    "--------\n",
    "{'; '.join([creator['name'] for creator in hit['metadata']['creators']])}\n",
    "\n",
    ".. meta::\n",
    "   :keywords: {'' if 'keywords' not in hit['metadata'] else ', '.join([keyword for keyword in hit['metadata']['keywords']])}\n",
    "    \"\"\"\n",
    "    # Write ReST page, basing the filename on the Zenodo ID\n",
    "    index_path = f\"{params['type']}s/{hit['id']}\"\n",
    "    with open(f\"../docs/{index_path}.rst\", \"w\", encoding = 'utf-8') as rst:\n",
    "        rst.write(page)\n",
    "    return index_path"
   ]
  },
  {
   "cell_type": "markdown",
   "id": "e5b6cd8d",
   "metadata": {},
   "source": [
    "### Process each hit, getting the next page/hit every iteration"
   ]
  },
  {
   "cell_type": "code",
   "execution_count": 40,
   "id": "5898976e",
   "metadata": {},
   "outputs": [
    {
     "name": "stdout",
     "output_type": "stream",
     "text": [
      "Title: Supply Chain Shocks due to extreme weather events\n",
      "URL: https://zenodo.org/api/records/?sort=mostrecent&q=&communities=coacch-co-designing-the-assessment-of-climate-change-costs-h2020-project&type=dataset&page=2&size=1\n",
      "Title: Riverine Flood Insurance assessment indicators under climate and socio-economic change\n",
      "URL: https://zenodo.org/api/records/?sort=mostrecent&q=&communities=coacch-co-designing-the-assessment-of-climate-change-costs-h2020-project&type=dataset&page=3&size=1\n",
      "Title: Time of emergence of climate change impacts\n",
      "URL: https://zenodo.org/api/records/?sort=mostrecent&q=&communities=coacch-co-designing-the-assessment-of-climate-change-costs-h2020-project&type=dataset&page=4&size=1\n",
      "Title: Climate induced economic shocks using CLIMRISK\n",
      "URL: https://zenodo.org/api/records/?sort=mostrecent&q=&communities=coacch-co-designing-the-assessment-of-climate-change-costs-h2020-project&type=dataset&page=5&size=1\n",
      "Title: River flooding impacts using CLIMRISK-RIVER\n",
      "URL: https://zenodo.org/api/records/?sort=mostrecent&q=&communities=coacch-co-designing-the-assessment-of-climate-change-costs-h2020-project&type=dataset&page=6&size=1\n",
      "Title: SETP Food\n",
      "URL: https://zenodo.org/api/records/?sort=mostrecent&q=&communities=coacch-co-designing-the-assessment-of-climate-change-costs-h2020-project&type=dataset&page=7&size=1\n",
      "Title: ImpactChains_GLOBIOM\n",
      "URL: https://zenodo.org/api/records/?sort=mostrecent&q=&communities=coacch-co-designing-the-assessment-of-climate-change-costs-h2020-project&type=dataset&page=8&size=1\n",
      "Title: Additional dataset to \"Comparing urban coastal flood risk in 136 cities under two alternative sea-level projections: RCP 8.5 and an expert opinion-based high-end scenario\"\n"
     ]
    },
    {
     "data": {
      "text/plain": [
       "['datasets/5541327',\n",
       " 'datasets/5534190',\n",
       " 'datasets/5530237',\n",
       " 'datasets/5530146',\n",
       " 'datasets/5529888',\n",
       " 'datasets/5529732',\n",
       " 'datasets/5513871',\n",
       " 'datasets/4733499']"
      ]
     },
     "execution_count": 40,
     "metadata": {},
     "output_type": "execute_result"
    }
   ],
   "source": [
    "# Process initial hit\n",
    "index_path = process_hit(j['hits']['hits'][0])\n",
    "index_paths = [index_path]\n",
    "# Process next hits/pages until they exhaust\n",
    "jn = j\n",
    "while get_next_link(jn): \n",
    "    next_response = reget(get_next_link(jn))\n",
    "    assert next_response.status_code == 200 # success\n",
    "    jn = next_response.json()\n",
    "    index_path = process_hit(jn['hits']['hits'][0])\n",
    "    index_paths.append(index_path)\n",
    "# Check that processed hits equals total hits\n",
    "assert len(index_paths) == j['hits']['total']\n",
    "index_paths"
   ]
  },
  {
   "cell_type": "markdown",
   "id": "54664488",
   "metadata": {},
   "source": [
    "### Add index paths to index"
   ]
  },
  {
   "cell_type": "code",
   "execution_count": 45,
   "id": "bc1aedb9",
   "metadata": {},
   "outputs": [],
   "source": [
    "# read the index file\n",
    "with open(f\"../docs/index.rst\", \"r\", encoding = 'utf-8') as index:\n",
    "    lines = index.readlines()\n",
    "# find the toctree\n",
    "i = 0\n",
    "while lines[i].find(\".. toctree::\") < 0:\n",
    "    i += 1\n",
    "# find the start of the index\n",
    "while lines[i] != '\\n':\n",
    "    i += 1\n",
    "i += 1\n",
    "assert start > 2\n",
    "start = i\n",
    "# remove index entries\n",
    "while lines[i] != '\\n':\n",
    "    lines.pop(i)\n",
    "# add new index paths\n",
    "for path in reversed(index_paths):\n",
    "    lines.insert(start, f\"   {path}\\n\")\n",
    "# write the index file\n",
    "with open(f\"../docs/index.rst\", \"w\", encoding = 'utf-8') as index:\n",
    "    index.writelines(lines)"
   ]
  },
  {
   "cell_type": "markdown",
   "id": "aba5622d",
   "metadata": {},
   "source": [
    "### List root-level keys and value types of the JSON result dictionary"
   ]
  },
  {
   "cell_type": "code",
   "execution_count": 173,
   "id": "913102b0",
   "metadata": {},
   "outputs": [
    {
     "name": "stdout",
     "output_type": "stream",
     "text": [
      "'aggregations' <class 'dict'>\n",
      "'hits' <class 'dict'>\n",
      "'links' <class 'dict'>\n"
     ]
    }
   ],
   "source": [
    "for key in j:\n",
    "    print(f\"'{key}' {type(j[key])}\")"
   ]
  },
  {
   "cell_type": "markdown",
   "id": "0bb0765e",
   "metadata": {},
   "source": [
    "### Show aggregations (aggregate data over all query hits, presumably)"
   ]
  },
  {
   "cell_type": "code",
   "execution_count": 174,
   "id": "ffc5125a",
   "metadata": {},
   "outputs": [
    {
     "name": "stdout",
     "output_type": "stream",
     "text": [
      "access_right:\n",
      "  buckets:\n",
      "  - doc_count: 25\n",
      "    key: open\n",
      "  - doc_count: 1\n",
      "    key: restricted\n",
      "  doc_count_error_upper_bound: 0\n",
      "  sum_other_doc_count: 0\n",
      "file_type:\n",
      "  buckets:\n",
      "  - doc_count: 19\n",
      "    key: pdf\n",
      "  - doc_count: 5\n",
      "    key: csv\n",
      "  - doc_count: 2\n",
      "    key: xlsx\n",
      "  - doc_count: 1\n",
      "    key: docx\n",
      "  - doc_count: 1\n",
      "    key: zip\n",
      "  doc_count_error_upper_bound: 0\n",
      "  sum_other_doc_count: 0\n",
      "keywords:\n",
      "  buckets:\n",
      "  - doc_count: 5\n",
      "    key: COACCH\n",
      "  - doc_count: 2\n",
      "    key: agriculture\n",
      "  - doc_count: 1\n",
      "    key: CLIMRISK\n",
      "  - doc_count: 1\n",
      "    key: CLIMRISK-RIVER\n",
      "  - doc_count: 1\n",
      "    key: Climate change mitigation; Electricity; Europe; Risk; Capital costs\n",
      "  - doc_count: 1\n",
      "    key: Climate-change impacts, Geology\n",
      "  - doc_count: 1\n",
      "    key: Coastal cities\n",
      "  - doc_count: 1\n",
      "    key: Damage risk\n",
      "  - doc_count: 1\n",
      "    key: ERA-5\n",
      "  - doc_count: 1\n",
      "    key: GLOFRIS\n",
      "  doc_count_error_upper_bound: 0\n",
      "  sum_other_doc_count: 27\n",
      "type:\n",
      "  buckets:\n",
      "  - doc_count: 19\n",
      "    key: publication\n",
      "    subtype:\n",
      "      buckets:\n",
      "      - doc_count: 19\n",
      "        key: article\n",
      "      doc_count_error_upper_bound: 0\n",
      "      sum_other_doc_count: 0\n",
      "  - doc_count: 6\n",
      "    key: dataset\n",
      "    subtype:\n",
      "      buckets: []\n",
      "      doc_count_error_upper_bound: 0\n",
      "      sum_other_doc_count: 0\n",
      "  - doc_count: 1\n",
      "    key: poster\n",
      "    subtype:\n",
      "      buckets: []\n",
      "      doc_count_error_upper_bound: 0\n",
      "      sum_other_doc_count: 0\n",
      "  doc_count_error_upper_bound: 0\n",
      "  sum_other_doc_count: 0\n",
      "\n"
     ]
    }
   ],
   "source": [
    "print(yaml.dump(j['aggregations']))"
   ]
  },
  {
   "cell_type": "markdown",
   "id": "6fb34d53",
   "metadata": {},
   "source": [
    "### Show links (navigation links on this page, presumably)"
   ]
  },
  {
   "cell_type": "code",
   "execution_count": 175,
   "id": "1a3817a5",
   "metadata": {},
   "outputs": [
    {
     "name": "stdout",
     "output_type": "stream",
     "text": [
      "next: https://zenodo.org/api/records/?sort=mostrecent&q=&communities=coacch-co-designing-the-assessment-of-climate-change-costs-h2020-project&type=dataset&page=2&size=1\n",
      "self: https://zenodo.org/api/records/?sort=mostrecent&q=&communities=coacch-co-designing-the-assessment-of-climate-change-costs-h2020-project&type=dataset&page=1&size=1\n",
      "\n"
     ]
    }
   ],
   "source": [
    "print(yaml.dump(j['links']))"
   ]
  },
  {
   "cell_type": "markdown",
   "id": "0e81e562",
   "metadata": {},
   "source": [
    "### List root-level keys and value types of the 'hits' sub dictionary\n",
    "\n",
    "Presumably, this is a list of hits returned on the current page as well as a total number of hits, which could have been classified as an 'aggregation' entry."
   ]
  },
  {
   "cell_type": "code",
   "execution_count": 176,
   "id": "c990d903",
   "metadata": {},
   "outputs": [
    {
     "name": "stdout",
     "output_type": "stream",
     "text": [
      "'hits' <class 'list'>\n",
      "'total' <class 'int'>\n"
     ]
    }
   ],
   "source": [
    "for key in j['hits']:\n",
    "    print(f\"'{key}' {type(j['hits'][key])}\")"
   ]
  },
  {
   "cell_type": "code",
   "execution_count": 162,
   "id": "e613d096",
   "metadata": {},
   "outputs": [
    {
     "data": {
      "text/plain": [
       "dict_keys(['access_right', 'access_right_category', 'communities', 'creators', 'description', 'doi', 'grants', 'keywords', 'license', 'publication_date', 'related_identifiers', 'relations', 'resource_type', 'title', 'version'])"
      ]
     },
     "execution_count": 162,
     "metadata": {},
     "output_type": "execute_result"
    }
   ],
   "source": [
    "hit = j['hits']['hits'][0]\n",
    "hit['metadata'].keys()"
   ]
  },
  {
   "cell_type": "code",
   "execution_count": 172,
   "id": "721a840d",
   "metadata": {},
   "outputs": [
    {
     "data": {
      "text/plain": [
       "'dataset'"
      ]
     },
     "execution_count": 172,
     "metadata": {},
     "output_type": "execute_result"
    }
   ],
   "source": [
    "params['type']"
   ]
  }
 ],
 "metadata": {
  "kernelspec": {
   "display_name": "Python 3 (ipykernel)",
   "language": "python",
   "name": "python3"
  },
  "language_info": {
   "codemirror_mode": {
    "name": "ipython",
    "version": 3
   },
   "file_extension": ".py",
   "mimetype": "text/x-python",
   "name": "python",
   "nbconvert_exporter": "python",
   "pygments_lexer": "ipython3",
   "version": "3.7.10"
  }
 },
 "nbformat": 4,
 "nbformat_minor": 5
}
