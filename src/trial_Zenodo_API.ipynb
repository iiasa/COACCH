{
 "cells": [
  {
   "cell_type": "code",
   "execution_count": 117,
   "id": "9df71b82",
   "metadata": {},
   "outputs": [],
   "source": [
    "import json\n",
    "import os\n",
    "import requests\n",
    "import tempfile\n",
    "import time\n",
    "import urllib\n",
    "from pprint import pprint"
   ]
  },
  {
   "cell_type": "markdown",
   "id": "2cd0a024",
   "metadata": {},
   "source": [
    "### Helper functions"
   ]
  },
  {
   "cell_type": "code",
   "execution_count": 3,
   "id": "ee9fdc36",
   "metadata": {},
   "outputs": [],
   "source": [
    "def get_nb_hits(json_response):\n",
    "    return len(json_response['hits']['hits'])\n",
    "\n",
    "def get_next_link(json_response):\n",
    "    return json_response['links'].get('next', None)\n",
    "\n",
    "def reget(url, params=None, **kwargs):\n",
    "    \"\"\"\n",
    "    Sends a GET request and resends it with increasing delays\n",
    "    when status code 429 (too many requests) is received.\n",
    "\n",
    "    :param url: URL for the new :class:`Request` object.\n",
    "    :param params: (optional) Dictionary, list of tuples or bytes to send\n",
    "        in the query string for the :class:`Request`.\n",
    "    :param **kwargs: Optional arguments that ``request`` takes.\n",
    "    :return: :class:`Response <Response>` object\n",
    "    :rtype: requests.Response\n",
    "    \"\"\"\n",
    "    if params is None:\n",
    "        print(f\"URL: {url}\")\n",
    "    else:\n",
    "        print(f\"URL: {url}, params:\")\n",
    "        redacted_params = params\n",
    "        del redacted_params['access_token'] # don't want to leak the token\n",
    "        print(json.dumps(redacted_params, indent = 4))\n",
    "    delay = 0.0\n",
    "    while True:  \n",
    "        response = requests.get(url, params=params, **kwargs)\n",
    "        if response.status_code != 429: # not too many requests\n",
    "            return response\n",
    "        delay += 2\n",
    "        print(f\"delay: {delay}s to circumvent rate limiting...\")\n",
    "        time.sleep(delay)"
   ]
  },
  {
   "cell_type": "markdown",
   "id": "754845cc",
   "metadata": {},
   "source": [
    "### Query and check that we got all hits on the first page\n",
    "\n",
    "The query string uses [elastic search syntax](https://www.elastic.co/guide/en/elasticsearch/reference/current/query-dsl-query-string-query.html#query-string-syntax)."
   ]
  },
  {
   "cell_type": "code",
   "execution_count": 142,
   "id": "bd1e44cf",
   "metadata": {},
   "outputs": [
    {
     "name": "stdout",
     "output_type": "stream",
     "text": [
      "URL: https://zenodo.org/api/records, params:\n",
      "{\n",
      "    \"q\": \"\",\n",
      "    \"type\": \"dataset\",\n",
      "    \"communities\": \"coacch-co-designing-the-assessment-of-climate-change-costs-h2020-project\",\n",
      "    \"size\": 100,\n",
      "    \"page\": 1\n",
      "}\n",
      "12 hits on the page.\n"
     ]
    }
   ],
   "source": [
    "query = \"\"\n",
    "hits_per_page = 100\n",
    "params = {\n",
    "    'q': urllib.parse.quote(query),\n",
    "    #'type': 'publication',\n",
    "    'type': 'dataset',\n",
    "    'communities': \"coacch-co-designing-the-assessment-of-climate-change-costs-h2020-project\",\n",
    "    'size': hits_per_page,\n",
    "    'page': 1,\n",
    "    'access_token': os.environ['ZENODO_API_TOKEN']\n",
    "}\n",
    "response = reget(\"https://zenodo.org/api/records\", params = params)\n",
    "assert response.status_code == 200 # success\n",
    "j = response.json()\n",
    "assert len(j['hits']['hits']) < hits_per_page\n",
    "print(f\"{len(j['hits']['hits'])} hits on the page.\")"
   ]
  },
  {
   "cell_type": "markdown",
   "id": "1ca7efcc",
   "metadata": {},
   "source": [
    "### Pretty print first hit"
   ]
  },
  {
   "cell_type": "code",
   "execution_count": 143,
   "id": "39b31f4d",
   "metadata": {},
   "outputs": [
    {
     "name": "stdout",
     "output_type": "stream",
     "text": [
      "{\n",
      "  \"conceptdoi\": \"10.5281/zenodo.5546263\",\n",
      "  \"conceptrecid\": \"5546263\",\n",
      "  \"created\": \"2021-10-03T10:39:09.696683+00:00\",\n",
      "  \"doi\": \"10.5281/zenodo.5546264\",\n",
      "  \"files\": [\n",
      "    {\n",
      "      \"bucket\": \"cd6c851e-1d5a-4cce-93b6-fdb73d3f9e4f\",\n",
      "      \"checksum\": \"md5:53d000634c2fdaae19ad4f5e2bd4280f\",\n",
      "      \"key\": \"damage_coefficients-COACCH-WP4.xlsx\",\n",
      "      \"links\": {\n",
      "        \"self\": \"https://zenodo.org/api/files/cd6c851e-1d5a-4cce-93b6-fdb73d3f9e4f/damage_coefficients-COACCH-WP4.xlsx\"\n",
      "      },\n",
      "      \"size\": 66047,\n",
      "      \"type\": \"xlsx\"\n",
      "    },\n",
      "    {\n",
      "      \"bucket\": \"cd6c851e-1d5a-4cce-93b6-fdb73d3f9e4f\",\n",
      "      \"checksum\": \"md5:16c58731d29607003a73d82461da15a5\",\n",
      "      \"key\": \"damage_coefficients-ICES-COACCH-WP4.xlsx\",\n",
      "      \"links\": {\n",
      "        \"self\": \"https://zenodo.org/api/files/cd6c851e-1d5a-4cce-93b6-fdb73d3f9e4f/damage_coefficients-ICES-COACCH-WP4.xlsx\"\n",
      "      },\n",
      "      \"size\": 144927,\n",
      "      \"type\": \"xlsx\"\n",
      "    },\n",
      "    {\n",
      "      \"bucket\": \"cd6c851e-1d5a-4cce-93b6-fdb73d3f9e4f\",\n",
      "      \"checksum\": \"md5:41c18d00cd247441bb09d7a08e255a8b\",\n",
      "      \"key\": \"DFs_All_impacts.xlsx\",\n",
      "      \"links\": {\n",
      "        \"self\": \"https://zenodo.org/api/files/cd6c851e-1d5a-4cce-93b6-fdb73d3f9e4f/DFs_All_impacts.xlsx\"\n",
      "      },\n",
      "      \"size\": 46853,\n",
      "      \"type\": \"xlsx\"\n",
      "    },\n",
      "    {\n",
      "      \"bucket\": \"cd6c851e-1d5a-4cce-93b6-fdb73d3f9e4f\",\n",
      "      \"checksum\": \"md5:a3d662789329d918bb08783698b18c71\",\n",
      "      \"key\": \"Metadata damage functions T4.3.csv\",\n",
      "      \"links\": {\n",
      "        \"self\": \"https://zenodo.org/api/files/cd6c851e-1d5a-4cce-93b6-fdb73d3f9e4f/Metadata%20damage%20functions%20T4.3.csv\"\n",
      "      },\n",
      "      \"size\": 1284,\n",
      "      \"type\": \"csv\"\n",
      "    }\n",
      "  ],\n",
      "  \"id\": 5546264,\n",
      "  \"links\": {\n",
      "    \"badge\": \"https://zenodo.org/badge/doi/10.5281/zenodo.5546264.svg\",\n",
      "    \"bucket\": \"https://zenodo.org/api/files/cd6c851e-1d5a-4cce-93b6-fdb73d3f9e4f\",\n",
      "    \"conceptbadge\": \"https://zenodo.org/badge/doi/10.5281/zenodo.5546263.svg\",\n",
      "    \"conceptdoi\": \"https://doi.org/10.5281/zenodo.5546263\",\n",
      "    \"doi\": \"https://doi.org/10.5281/zenodo.5546264\",\n",
      "    \"html\": \"https://zenodo.org/record/5546264\",\n",
      "    \"latest\": \"https://zenodo.org/api/records/5546264\",\n",
      "    \"latest_html\": \"https://zenodo.org/record/5546264\",\n",
      "    \"self\": \"https://zenodo.org/api/records/5546264\"\n",
      "  },\n",
      "  \"metadata\": {\n",
      "    \"access_right\": \"open\",\n",
      "    \"access_right_category\": \"success\",\n",
      "    \"communities\": [\n",
      "      {\n",
      "        \"id\": \"coacch-co-designing-the-assessment-of-climate-change-costs-h2020-project\"\n",
      "      }\n",
      "    ],\n",
      "    \"contributors\": [\n",
      "      {\n",
      "        \"affiliation\": \"Centro Euro-Mediterraneo sui Cambiamenti Climatici\",\n",
      "        \"name\": \"Dasgupta, Shouro\",\n",
      "        \"type\": \"Other\"\n",
      "      }\n",
      "    ],\n",
      "    \"creators\": [\n",
      "      {\n",
      "        \"affiliation\": \"Centro Euro-Mediterraneo sui Cambiamenti Climatici\",\n",
      "        \"name\": \"Parrado, Ramiro\",\n",
      "        \"orcid\": \"0000-0002-0951-1013\"\n",
      "      },\n",
      "      {\n",
      "        \"affiliation\": \"Centro Euro-Mediterraneo sui Cambiamenti Climatici\",\n",
      "        \"name\": \"Bosello, Francesco\"\n",
      "      },\n",
      "      {\n",
      "        \"affiliation\": \"Planbureau voor de Leefomgeving\",\n",
      "        \"name\": \"Van der Wijst, Kaj-Ivar\"\n",
      "      },\n",
      "      {\n",
      "        \"affiliation\": \"Centro Euro-Mediterraneo sui Cambiamenti Climatici\",\n",
      "        \"name\": \"Standardi, Gabriele\"\n",
      "      }\n",
      "    ],\n",
      "    \"description\": \"<p>Reduced-form Climate Change Damage Functions of impacts on: Agriculture, Fishery, Forestry, Sea level rise, Riverine floods, Transport, Energy supply, Energy demand, Labour productivity.</p>\",\n",
      "    \"doi\": \"10.5281/zenodo.5546264\",\n",
      "    \"grants\": [\n",
      "      {\n",
      "        \"acronym\": \"COACCH\",\n",
      "        \"code\": \"776479\",\n",
      "        \"funder\": {\n",
      "          \"acronyms\": [],\n",
      "          \"doi\": \"10.13039/501100000780\",\n",
      "          \"links\": {\n",
      "            \"self\": \"https://zenodo.org/api/funders/10.13039/501100000780\"\n",
      "          },\n",
      "          \"name\": \"European Commission\"\n",
      "        },\n",
      "        \"links\": {\n",
      "          \"self\": \"https://zenodo.org/api/grants/10.13039/501100000780::776479\"\n",
      "        },\n",
      "        \"program\": \"H2020\",\n",
      "        \"title\": \"CO-designing the Assessment of Climate CHange costs\"\n",
      "      }\n",
      "    ],\n",
      "    \"keywords\": [\n",
      "      \"Damage Functions\",\n",
      "      \"Climate Change impacts\",\n",
      "      \"Policy effectiveness\",\n",
      "      \"Macroeconomic assessment\",\n",
      "      \"COACCH\"\n",
      "    ],\n",
      "    \"language\": \"eng\",\n",
      "    \"license\": {\n",
      "      \"id\": \"CC-BY-4.0\"\n",
      "    },\n",
      "    \"publication_date\": \"2021-10-03\",\n",
      "    \"references\": [\n",
      "      \"Van der Wijst et al., (2021). D24.3.Macroeconomic assessment of policy effectiveness. Deliverable of the H2020 COACCH project.\"\n",
      "    ],\n",
      "    \"related_identifiers\": [\n",
      "      {\n",
      "        \"identifier\": \"10.5281/zenodo.5546263\",\n",
      "        \"relation\": \"isVersionOf\",\n",
      "        \"scheme\": \"doi\"\n",
      "      }\n",
      "    ],\n",
      "    \"relations\": {\n",
      "      \"version\": [\n",
      "        {\n",
      "          \"count\": 1,\n",
      "          \"index\": 0,\n",
      "          \"is_last\": true,\n",
      "          \"last_child\": {\n",
      "            \"pid_type\": \"recid\",\n",
      "            \"pid_value\": \"5546264\"\n",
      "          },\n",
      "          \"parent\": {\n",
      "            \"pid_type\": \"recid\",\n",
      "            \"pid_value\": \"5546263\"\n",
      "          }\n",
      "        }\n",
      "      ]\n",
      "    },\n",
      "    \"resource_type\": {\n",
      "      \"title\": \"Dataset\",\n",
      "      \"type\": \"dataset\"\n",
      "    },\n",
      "    \"title\": \"Reduced-form Climate Change Damage Functions\",\n",
      "    \"version\": \"1\"\n",
      "  },\n",
      "  \"owners\": [\n",
      "    67061\n",
      "  ],\n",
      "  \"revision\": 3,\n",
      "  \"stats\": {\n",
      "    \"downloads\": 8.0,\n",
      "    \"unique_downloads\": 3.0,\n",
      "    \"unique_views\": 1.0,\n",
      "    \"version_downloads\": 12.0,\n",
      "    \"version_unique_downloads\": 4.0,\n",
      "    \"version_unique_views\": 1.0,\n",
      "    \"version_views\": 3.0,\n",
      "    \"version_volume\": 523358.0,\n",
      "    \"views\": 3.0,\n",
      "    \"volume\": 264247.0\n",
      "  },\n",
      "  \"updated\": \"2021-10-04T07:18:57.742726+00:00\"\n",
      "}\n"
     ]
    }
   ],
   "source": [
    "print(json.dumps(j['hits']['hits'][0], indent = 2))"
   ]
  },
  {
   "cell_type": "markdown",
   "id": "e5b6cd8d",
   "metadata": {},
   "source": [
    "### List URLs of files in the data-set of a hit, and guess the metadata file"
   ]
  },
  {
   "cell_type": "code",
   "execution_count": 154,
   "id": "da0117f1",
   "metadata": {},
   "outputs": [
    {
     "name": "stdout",
     "output_type": "stream",
     "text": [
      "-------- ID: 5546264\n",
      "https://zenodo.org/api/files/cd6c851e-1d5a-4cce-93b6-fdb73d3f9e4f/damage_coefficients-COACCH-WP4.xlsx\n",
      "https://zenodo.org/api/files/cd6c851e-1d5a-4cce-93b6-fdb73d3f9e4f/damage_coefficients-ICES-COACCH-WP4.xlsx\n",
      "https://zenodo.org/api/files/cd6c851e-1d5a-4cce-93b6-fdb73d3f9e4f/DFs_All_impacts.xlsx\n",
      "https://zenodo.org/api/files/cd6c851e-1d5a-4cce-93b6-fdb73d3f9e4f/Metadata%20damage%20functions%20T4.3.csv <-- metadata?\n",
      "-------- ID: 5546248\n",
      "https://zenodo.org/api/files/c5de69df-aafb-46ca-8e57-a8a2aeafa8ba/COACCH_ICES-CMCC_data.7z\n",
      "https://zenodo.org/api/files/c5de69df-aafb-46ca-8e57-a8a2aeafa8ba/COACCH_ICES_MetaData-CMCC.csv <-- metadata?\n",
      "-------- ID: 5541337\n",
      "https://zenodo.org/api/files/ace61379-f532-4208-b241-091201337012/COACCH_MetaData_T2.6_CUNI.csv <-- metadata?\n",
      "https://zenodo.org/api/files/ace61379-f532-4208-b241-091201337012/COACCH_T2.6_Valuation%20of%20heat%20related%20mortality%20risk_CUNI.xlsx\n",
      "https://zenodo.org/api/files/ace61379-f532-4208-b241-091201337012/COACCH_T2.6_Valuation%20of%20tick-borne%20diseases_CUNI.xlsx\n",
      "-------- ID: 5541894\n",
      "https://zenodo.org/api/files/47e4e7fc-084d-4e22-83ef-59337a2f86a9/COACCH_MetaData_energy_demand.csv <-- metadata?\n",
      "https://zenodo.org/api/files/47e4e7fc-084d-4e22-83ef-59337a2f86a9/energy_demand_all_rcp.xlsx\n",
      "-------- ID: 5541327\n",
      "https://zenodo.org/api/files/caa37be2-8cb3-4fa5-be8a-b4270581b143/COACCH_MetaData_WP2_4_Trade_and_Supply_Chain_Shocks.csv <-- metadata?\n",
      "https://zenodo.org/api/files/caa37be2-8cb3-4fa5-be8a-b4270581b143/COACCH_WP2_4_Trade_and_Supply_Chain_Shocks.csv\n",
      "-------- ID: 5534190\n",
      "https://zenodo.org/api/files/bbbc0e7e-dff8-4737-bd93-67da222b1478/EAD%20RCP2.6-SSP1.csv\n",
      "https://zenodo.org/api/files/bbbc0e7e-dff8-4737-bd93-67da222b1478/EAD%20RCP2.6-SSP2.csv\n",
      "https://zenodo.org/api/files/bbbc0e7e-dff8-4737-bd93-67da222b1478/EAD%20RCP4.5-SSP2.csv\n",
      "https://zenodo.org/api/files/bbbc0e7e-dff8-4737-bd93-67da222b1478/EAD%20RCP6.0-SSP2.csv\n",
      "https://zenodo.org/api/files/bbbc0e7e-dff8-4737-bd93-67da222b1478/EAD%20RCP8.5-SSP5.csv\n",
      "https://zenodo.org/api/files/bbbc0e7e-dff8-4737-bd93-67da222b1478/metadata.csv <-- metadata?\n",
      "https://zenodo.org/api/files/bbbc0e7e-dff8-4737-bd93-67da222b1478/Pen%20rate%20RCP2.6-SSP1.csv\n",
      "https://zenodo.org/api/files/bbbc0e7e-dff8-4737-bd93-67da222b1478/Pen%20rate%20RCP2.6-SSP2.csv\n",
      "https://zenodo.org/api/files/bbbc0e7e-dff8-4737-bd93-67da222b1478/Pen%20rate%20RCP4.5-SSP2.csv\n",
      "https://zenodo.org/api/files/bbbc0e7e-dff8-4737-bd93-67da222b1478/Pen%20rate%20RCP6.0-SSP2.csv\n",
      "https://zenodo.org/api/files/bbbc0e7e-dff8-4737-bd93-67da222b1478/Pen%20rate%20RCP8.5-SSP5.csv\n",
      "https://zenodo.org/api/files/bbbc0e7e-dff8-4737-bd93-67da222b1478/Premium%20RCP2.6-SSP1.csv\n",
      "https://zenodo.org/api/files/bbbc0e7e-dff8-4737-bd93-67da222b1478/Premium%20RCP2.6-SSP2.csv\n",
      "https://zenodo.org/api/files/bbbc0e7e-dff8-4737-bd93-67da222b1478/Premium%20RCP4.5-SSP2.csv\n",
      "https://zenodo.org/api/files/bbbc0e7e-dff8-4737-bd93-67da222b1478/Premium%20RCP6.0-SSP2.csv\n",
      "https://zenodo.org/api/files/bbbc0e7e-dff8-4737-bd93-67da222b1478/Premium%20RCP8.5-SSP5.csv\n",
      "-------- ID: 5530237\n",
      "https://zenodo.org/api/files/d69d64c8-affa-4166-9635-d14660bdcd60/metadata.csv <-- metadata?\n",
      "https://zenodo.org/api/files/d69d64c8-affa-4166-9635-d14660bdcd60/toei.csv\n",
      "-------- ID: 5530146\n",
      "https://zenodo.org/api/files/22c9648d-617e-4cd7-8a3b-fd85bb567dac/absolute_risk.xlsx\n",
      "https://zenodo.org/api/files/22c9648d-617e-4cd7-8a3b-fd85bb567dac/COACCH_MetaData.csv <-- metadata?\n",
      "https://zenodo.org/api/files/22c9648d-617e-4cd7-8a3b-fd85bb567dac/mvri.xlsx\n",
      "https://zenodo.org/api/files/22c9648d-617e-4cd7-8a3b-fd85bb567dac/relative_risk.xlsx\n",
      "-------- ID: 5529888\n",
      "https://zenodo.org/api/files/3399b37e-2171-44d9-8ba5-088474b03d69/BaselineHeightAdaptation.csv\n",
      "https://zenodo.org/api/files/3399b37e-2171-44d9-8ba5-088474b03d69/COACCH_MetaData.csv <-- metadata?\n",
      "https://zenodo.org/api/files/3399b37e-2171-44d9-8ba5-088474b03d69/OptimalAdaptation.csv\n",
      "-------- ID: 5529732\n",
      "https://zenodo.org/api/files/0beb8030-0676-45fe-9134-3406d6116a73/SETP_Food.csv\n",
      "https://zenodo.org/api/files/0beb8030-0676-45fe-9134-3406d6116a73/T3.4_SETP_Food_MetaData.csv <-- metadata?\n",
      "-------- ID: 5513871\n",
      "https://zenodo.org/api/files/4406e796-3221-4985-925e-ea43cd89ac2f/IIASA_ImpactChains_GLOBIOM_Data.csv\n",
      "https://zenodo.org/api/files/4406e796-3221-4985-925e-ea43cd89ac2f/ImpactChains_GLOBIOM_MetaData.csv <-- metadata?\n",
      "-------- ID: 4733499\n",
      "https://zenodo.org/api/files/cca08a1a-ad35-489a-8049-bfe951fda371/Abadie%20et%20al_2020_Additional%20scenarios.xlsx\n",
      "WARNING: data set 4733499 includes no obvious metadata file!\n"
     ]
    }
   ],
   "source": [
    "meta_urls = []\n",
    "for hit in j['hits']['hits']:\n",
    "    print(f\"-------- ID: {hit['id']}\")\n",
    "    files = hit['files']\n",
    "    meta_url = None\n",
    "    for f in files:\n",
    "        link = f['links']['self']\n",
    "        if link.lower().find(\"metadata\") >= 0 or link.lower().find(\"meta%20data\") >= 0:\n",
    "            assert meta_url is None\n",
    "            meta_url = link\n",
    "            print(f\"{link} <-- metadata?\")\n",
    "        else:\n",
    "            print(f\"{link}\")\n",
    "    if meta_url is None:\n",
    "        print(f\"WARNING: data set {hit['id']} includes no obvious metadata file!\")\n",
    "    meta_urls.append(meta_url)"
   ]
  },
  {
   "cell_type": "markdown",
   "id": "626dd565",
   "metadata": {},
   "source": [
    "### Download meta data of one of the hits as a binary file"
   ]
  },
  {
   "cell_type": "code",
   "execution_count": 164,
   "id": "690b886a",
   "metadata": {},
   "outputs": [
    {
     "data": {
      "text/plain": [
       "b'Name,Entry date,Dataset version,Author/Contact person,Short description,Partner,Model type/method,Model,Model version,Documentation,Sector,Keywords,SSP,RCP,GCM,Variables and units,Time start,Time end,Time resolution,Spatial coverage,Spatial resolution unit Europe,Spatial resolution Rest of World,Spatial projection,Data type,File format,Recommended citation,Other comments\\r\\nSupply Chain Shocks due to extreme weather events,24/08/2021,v1,Stefan Borsky,Projected supply chain shocks due to extrem weather events measured in annual percentage change in a country-sector\\'s export activity compared to the baseline period ,UNI GRAZ,Econometrics,,,,Industry energy services and trade,\"supply chain shocks, extreme weather events, climate change\",SSP2,\"RCP2.6, RCP4.5\",\"HadGEM2-ES, IPSL-CM5A-LR, GFDL-ESM2M, NorESM1-M, MIROC-ESM-CHEM\",SupplyChainShock (annual percentage change in export activity to the baseline period (1990\\x962015)),1/1/2015,31/12/2099,Annual,Global,Country,Country,,,CSV,\"Schleypen, J.R., Dasgupta, S., Borsky, S., Jury, M., \\x8a?asn\\xfd, M., Bezhanishvili, L. (2019). D2.4 Impacts on Industry, Energy, Services, and Trade. Deliverable of the H2020 COACCH project.\",\\r\\n'"
      ]
     },
     "execution_count": 164,
     "metadata": {},
     "output_type": "execute_result"
    }
   ],
   "source": [
    "meta_url = meta_urls[4]\n",
    "meta_file_name = urllib.parse.unquote(meta_url.split(\"/\")[-1])\n",
    "r = requests.get(meta_url)\n",
    "with open(meta_file_name, 'wb') as f:\n",
    "    f.write(r.content)\n",
    "r.content"
   ]
  },
  {
   "cell_type": "markdown",
   "id": "a28d15fc",
   "metadata": {},
   "source": [
    "### Import as CSV with Pandas"
   ]
  },
  {
   "cell_type": "code",
   "execution_count": 165,
   "id": "232ee39d",
   "metadata": {},
   "outputs": [
    {
     "name": "stdout",
     "output_type": "stream",
     "text": [
      "COACCH_MetaData_WP2_4_Trade_and_Supply_Chain_Shocks.csv\n"
     ]
    },
    {
     "ename": "UnicodeDecodeError",
     "evalue": "'utf-8' codec can't decode byte 0x96 in position 920: invalid start byte",
     "output_type": "error",
     "traceback": [
      "\u001b[1;31m---------------------------------------------------------------------------\u001b[0m",
      "\u001b[1;31mUnicodeDecodeError\u001b[0m                        Traceback (most recent call last)",
      "\u001b[1;32mC:\\Temp/ipykernel_9860/1939174472.py\u001b[0m in \u001b[0;36m<module>\u001b[1;34m\u001b[0m\n\u001b[0;32m      1\u001b[0m \u001b[1;32mimport\u001b[0m \u001b[0mpandas\u001b[0m \u001b[1;32mas\u001b[0m \u001b[0mpd\u001b[0m\u001b[1;33m\u001b[0m\u001b[1;33m\u001b[0m\u001b[0m\n\u001b[0;32m      2\u001b[0m \u001b[0mprint\u001b[0m\u001b[1;33m(\u001b[0m\u001b[0mmeta_file_name\u001b[0m\u001b[1;33m)\u001b[0m\u001b[1;33m\u001b[0m\u001b[1;33m\u001b[0m\u001b[0m\n\u001b[1;32m----> 3\u001b[1;33m \u001b[0mmf\u001b[0m \u001b[1;33m=\u001b[0m \u001b[0mpd\u001b[0m\u001b[1;33m.\u001b[0m\u001b[0mread_csv\u001b[0m\u001b[1;33m(\u001b[0m\u001b[0mmeta_file_name\u001b[0m\u001b[1;33m,\u001b[0m \u001b[0mencoding\u001b[0m\u001b[1;33m=\u001b[0m\u001b[1;34m'utf-8'\u001b[0m\u001b[1;33m)\u001b[0m\u001b[1;33m\u001b[0m\u001b[1;33m\u001b[0m\u001b[0m\n\u001b[0m\u001b[0;32m      4\u001b[0m \u001b[0mmf\u001b[0m\u001b[1;33m\u001b[0m\u001b[1;33m\u001b[0m\u001b[0m\n",
      "\u001b[1;32mE:\\tools\\Anaconda3\\lib\\site-packages\\pandas\\util\\_decorators.py\u001b[0m in \u001b[0;36mwrapper\u001b[1;34m(*args, **kwargs)\u001b[0m\n\u001b[0;32m    309\u001b[0m                     \u001b[0mstacklevel\u001b[0m\u001b[1;33m=\u001b[0m\u001b[0mstacklevel\u001b[0m\u001b[1;33m,\u001b[0m\u001b[1;33m\u001b[0m\u001b[1;33m\u001b[0m\u001b[0m\n\u001b[0;32m    310\u001b[0m                 )\n\u001b[1;32m--> 311\u001b[1;33m             \u001b[1;32mreturn\u001b[0m \u001b[0mfunc\u001b[0m\u001b[1;33m(\u001b[0m\u001b[1;33m*\u001b[0m\u001b[0margs\u001b[0m\u001b[1;33m,\u001b[0m \u001b[1;33m**\u001b[0m\u001b[0mkwargs\u001b[0m\u001b[1;33m)\u001b[0m\u001b[1;33m\u001b[0m\u001b[1;33m\u001b[0m\u001b[0m\n\u001b[0m\u001b[0;32m    312\u001b[0m \u001b[1;33m\u001b[0m\u001b[0m\n\u001b[0;32m    313\u001b[0m         \u001b[1;32mreturn\u001b[0m \u001b[0mwrapper\u001b[0m\u001b[1;33m\u001b[0m\u001b[1;33m\u001b[0m\u001b[0m\n",
      "\u001b[1;32mE:\\tools\\Anaconda3\\lib\\site-packages\\pandas\\io\\parsers\\readers.py\u001b[0m in \u001b[0;36mread_csv\u001b[1;34m(filepath_or_buffer, sep, delimiter, header, names, index_col, usecols, squeeze, prefix, mangle_dupe_cols, dtype, engine, converters, true_values, false_values, skipinitialspace, skiprows, skipfooter, nrows, na_values, keep_default_na, na_filter, verbose, skip_blank_lines, parse_dates, infer_datetime_format, keep_date_col, date_parser, dayfirst, cache_dates, iterator, chunksize, compression, thousands, decimal, lineterminator, quotechar, quoting, doublequote, escapechar, comment, encoding, encoding_errors, dialect, error_bad_lines, warn_bad_lines, on_bad_lines, delim_whitespace, low_memory, memory_map, float_precision, storage_options)\u001b[0m\n\u001b[0;32m    584\u001b[0m     \u001b[0mkwds\u001b[0m\u001b[1;33m.\u001b[0m\u001b[0mupdate\u001b[0m\u001b[1;33m(\u001b[0m\u001b[0mkwds_defaults\u001b[0m\u001b[1;33m)\u001b[0m\u001b[1;33m\u001b[0m\u001b[1;33m\u001b[0m\u001b[0m\n\u001b[0;32m    585\u001b[0m \u001b[1;33m\u001b[0m\u001b[0m\n\u001b[1;32m--> 586\u001b[1;33m     \u001b[1;32mreturn\u001b[0m \u001b[0m_read\u001b[0m\u001b[1;33m(\u001b[0m\u001b[0mfilepath_or_buffer\u001b[0m\u001b[1;33m,\u001b[0m \u001b[0mkwds\u001b[0m\u001b[1;33m)\u001b[0m\u001b[1;33m\u001b[0m\u001b[1;33m\u001b[0m\u001b[0m\n\u001b[0m\u001b[0;32m    587\u001b[0m \u001b[1;33m\u001b[0m\u001b[0m\n\u001b[0;32m    588\u001b[0m \u001b[1;33m\u001b[0m\u001b[0m\n",
      "\u001b[1;32mE:\\tools\\Anaconda3\\lib\\site-packages\\pandas\\io\\parsers\\readers.py\u001b[0m in \u001b[0;36m_read\u001b[1;34m(filepath_or_buffer, kwds)\u001b[0m\n\u001b[0;32m    480\u001b[0m \u001b[1;33m\u001b[0m\u001b[0m\n\u001b[0;32m    481\u001b[0m     \u001b[1;31m# Create the parser.\u001b[0m\u001b[1;33m\u001b[0m\u001b[1;33m\u001b[0m\u001b[1;33m\u001b[0m\u001b[0m\n\u001b[1;32m--> 482\u001b[1;33m     \u001b[0mparser\u001b[0m \u001b[1;33m=\u001b[0m \u001b[0mTextFileReader\u001b[0m\u001b[1;33m(\u001b[0m\u001b[0mfilepath_or_buffer\u001b[0m\u001b[1;33m,\u001b[0m \u001b[1;33m**\u001b[0m\u001b[0mkwds\u001b[0m\u001b[1;33m)\u001b[0m\u001b[1;33m\u001b[0m\u001b[1;33m\u001b[0m\u001b[0m\n\u001b[0m\u001b[0;32m    483\u001b[0m \u001b[1;33m\u001b[0m\u001b[0m\n\u001b[0;32m    484\u001b[0m     \u001b[1;32mif\u001b[0m \u001b[0mchunksize\u001b[0m \u001b[1;32mor\u001b[0m \u001b[0miterator\u001b[0m\u001b[1;33m:\u001b[0m\u001b[1;33m\u001b[0m\u001b[1;33m\u001b[0m\u001b[0m\n",
      "\u001b[1;32mE:\\tools\\Anaconda3\\lib\\site-packages\\pandas\\io\\parsers\\readers.py\u001b[0m in \u001b[0;36m__init__\u001b[1;34m(self, f, engine, **kwds)\u001b[0m\n\u001b[0;32m    809\u001b[0m             \u001b[0mself\u001b[0m\u001b[1;33m.\u001b[0m\u001b[0moptions\u001b[0m\u001b[1;33m[\u001b[0m\u001b[1;34m\"has_index_names\"\u001b[0m\u001b[1;33m]\u001b[0m \u001b[1;33m=\u001b[0m \u001b[0mkwds\u001b[0m\u001b[1;33m[\u001b[0m\u001b[1;34m\"has_index_names\"\u001b[0m\u001b[1;33m]\u001b[0m\u001b[1;33m\u001b[0m\u001b[1;33m\u001b[0m\u001b[0m\n\u001b[0;32m    810\u001b[0m \u001b[1;33m\u001b[0m\u001b[0m\n\u001b[1;32m--> 811\u001b[1;33m         \u001b[0mself\u001b[0m\u001b[1;33m.\u001b[0m\u001b[0m_engine\u001b[0m \u001b[1;33m=\u001b[0m \u001b[0mself\u001b[0m\u001b[1;33m.\u001b[0m\u001b[0m_make_engine\u001b[0m\u001b[1;33m(\u001b[0m\u001b[0mself\u001b[0m\u001b[1;33m.\u001b[0m\u001b[0mengine\u001b[0m\u001b[1;33m)\u001b[0m\u001b[1;33m\u001b[0m\u001b[1;33m\u001b[0m\u001b[0m\n\u001b[0m\u001b[0;32m    812\u001b[0m \u001b[1;33m\u001b[0m\u001b[0m\n\u001b[0;32m    813\u001b[0m     \u001b[1;32mdef\u001b[0m \u001b[0mclose\u001b[0m\u001b[1;33m(\u001b[0m\u001b[0mself\u001b[0m\u001b[1;33m)\u001b[0m\u001b[1;33m:\u001b[0m\u001b[1;33m\u001b[0m\u001b[1;33m\u001b[0m\u001b[0m\n",
      "\u001b[1;32mE:\\tools\\Anaconda3\\lib\\site-packages\\pandas\\io\\parsers\\readers.py\u001b[0m in \u001b[0;36m_make_engine\u001b[1;34m(self, engine)\u001b[0m\n\u001b[0;32m   1038\u001b[0m             )\n\u001b[0;32m   1039\u001b[0m         \u001b[1;31m# error: Too many arguments for \"ParserBase\"\u001b[0m\u001b[1;33m\u001b[0m\u001b[1;33m\u001b[0m\u001b[1;33m\u001b[0m\u001b[0m\n\u001b[1;32m-> 1040\u001b[1;33m         \u001b[1;32mreturn\u001b[0m \u001b[0mmapping\u001b[0m\u001b[1;33m[\u001b[0m\u001b[0mengine\u001b[0m\u001b[1;33m]\u001b[0m\u001b[1;33m(\u001b[0m\u001b[0mself\u001b[0m\u001b[1;33m.\u001b[0m\u001b[0mf\u001b[0m\u001b[1;33m,\u001b[0m \u001b[1;33m**\u001b[0m\u001b[0mself\u001b[0m\u001b[1;33m.\u001b[0m\u001b[0moptions\u001b[0m\u001b[1;33m)\u001b[0m  \u001b[1;31m# type: ignore[call-arg]\u001b[0m\u001b[1;33m\u001b[0m\u001b[1;33m\u001b[0m\u001b[0m\n\u001b[0m\u001b[0;32m   1041\u001b[0m \u001b[1;33m\u001b[0m\u001b[0m\n\u001b[0;32m   1042\u001b[0m     \u001b[1;32mdef\u001b[0m \u001b[0m_failover_to_python\u001b[0m\u001b[1;33m(\u001b[0m\u001b[0mself\u001b[0m\u001b[1;33m)\u001b[0m\u001b[1;33m:\u001b[0m\u001b[1;33m\u001b[0m\u001b[1;33m\u001b[0m\u001b[0m\n",
      "\u001b[1;32mE:\\tools\\Anaconda3\\lib\\site-packages\\pandas\\io\\parsers\\c_parser_wrapper.py\u001b[0m in \u001b[0;36m__init__\u001b[1;34m(self, src, **kwds)\u001b[0m\n\u001b[0;32m     67\u001b[0m         \u001b[0mkwds\u001b[0m\u001b[1;33m[\u001b[0m\u001b[1;34m\"dtype\"\u001b[0m\u001b[1;33m]\u001b[0m \u001b[1;33m=\u001b[0m \u001b[0mensure_dtype_objs\u001b[0m\u001b[1;33m(\u001b[0m\u001b[0mkwds\u001b[0m\u001b[1;33m.\u001b[0m\u001b[0mget\u001b[0m\u001b[1;33m(\u001b[0m\u001b[1;34m\"dtype\"\u001b[0m\u001b[1;33m,\u001b[0m \u001b[1;32mNone\u001b[0m\u001b[1;33m)\u001b[0m\u001b[1;33m)\u001b[0m\u001b[1;33m\u001b[0m\u001b[1;33m\u001b[0m\u001b[0m\n\u001b[0;32m     68\u001b[0m         \u001b[1;32mtry\u001b[0m\u001b[1;33m:\u001b[0m\u001b[1;33m\u001b[0m\u001b[1;33m\u001b[0m\u001b[0m\n\u001b[1;32m---> 69\u001b[1;33m             \u001b[0mself\u001b[0m\u001b[1;33m.\u001b[0m\u001b[0m_reader\u001b[0m \u001b[1;33m=\u001b[0m \u001b[0mparsers\u001b[0m\u001b[1;33m.\u001b[0m\u001b[0mTextReader\u001b[0m\u001b[1;33m(\u001b[0m\u001b[0mself\u001b[0m\u001b[1;33m.\u001b[0m\u001b[0mhandles\u001b[0m\u001b[1;33m.\u001b[0m\u001b[0mhandle\u001b[0m\u001b[1;33m,\u001b[0m \u001b[1;33m**\u001b[0m\u001b[0mkwds\u001b[0m\u001b[1;33m)\u001b[0m\u001b[1;33m\u001b[0m\u001b[1;33m\u001b[0m\u001b[0m\n\u001b[0m\u001b[0;32m     70\u001b[0m         \u001b[1;32mexcept\u001b[0m \u001b[0mException\u001b[0m\u001b[1;33m:\u001b[0m\u001b[1;33m\u001b[0m\u001b[1;33m\u001b[0m\u001b[0m\n\u001b[0;32m     71\u001b[0m             \u001b[0mself\u001b[0m\u001b[1;33m.\u001b[0m\u001b[0mhandles\u001b[0m\u001b[1;33m.\u001b[0m\u001b[0mclose\u001b[0m\u001b[1;33m(\u001b[0m\u001b[1;33m)\u001b[0m\u001b[1;33m\u001b[0m\u001b[1;33m\u001b[0m\u001b[0m\n",
      "\u001b[1;32mE:\\tools\\Anaconda3\\lib\\site-packages\\pandas\\_libs\\parsers.pyx\u001b[0m in \u001b[0;36mpandas._libs.parsers.TextReader.__cinit__\u001b[1;34m()\u001b[0m\n",
      "\u001b[1;32mE:\\tools\\Anaconda3\\lib\\site-packages\\pandas\\_libs\\parsers.pyx\u001b[0m in \u001b[0;36mpandas._libs.parsers.TextReader._get_header\u001b[1;34m()\u001b[0m\n",
      "\u001b[1;32mE:\\tools\\Anaconda3\\lib\\site-packages\\pandas\\_libs\\parsers.pyx\u001b[0m in \u001b[0;36mpandas._libs.parsers.TextReader._tokenize_rows\u001b[1;34m()\u001b[0m\n",
      "\u001b[1;32mE:\\tools\\Anaconda3\\lib\\site-packages\\pandas\\_libs\\parsers.pyx\u001b[0m in \u001b[0;36mpandas._libs.parsers.raise_parser_error\u001b[1;34m()\u001b[0m\n",
      "\u001b[1;31mUnicodeDecodeError\u001b[0m: 'utf-8' codec can't decode byte 0x96 in position 920: invalid start byte"
     ]
    }
   ],
   "source": [
    "#encoding = 'utf-8'\n",
    "encoding = 'Windows-1252'\n",
    "\n",
    "import pandas as pd\n",
    "print(meta_file_name)\n",
    "mf = pd.read_csv(meta_file_name, encoding=encoding)\n",
    "mf"
   ]
  },
  {
   "cell_type": "markdown",
   "id": "4167f3bd",
   "metadata": {},
   "source": [
    "### Sniff and read the CSV with the csv module"
   ]
  },
  {
   "cell_type": "code",
   "execution_count": 118,
   "id": "56dc21b5",
   "metadata": {},
   "outputs": [
    {
     "name": "stdout",
     "output_type": "stream",
     "text": [
      "OrderedDict([('Name', 'Reduced-form Climate Change Damage Functions '),\n",
      "             ('Entry date', '29092021'),\n",
      "             ('Dataset version', '1'),\n",
      "             ('Author/Contact person',\n",
      "              'Francesco Bosello, Ramiro Parrado, Kaj-Ivar Van der Wijst, '\n",
      "              'Gabriele Standardi'),\n",
      "             ('Short description',\n",
      "              'Reduced-form Climate Change Damage Functions of impacts on: '\n",
      "              'Agriculture, Fishery, Forestry, Sea level rise, Riverine '\n",
      "              'floods, Transport, Energy supply, Energy demand, Labour '\n",
      "              'productivity.'),\n",
      "             ('Partner', 'CMCC/PBL'),\n",
      "             ('Model type/method', 'Reduced-form Damage Function'),\n",
      "             ('Model', 'NA'),\n",
      "             ('Model version', 'NA'),\n",
      "             ('Documentation',\n",
      "              'https://www.coacch.eu/wp-content/uploads/2018/03/COACCH-Deliverable-4.3-to-upload.pdf'),\n",
      "             ('Sector', 'Macro-economic'),\n",
      "             ('Keywords',\n",
      "              'Macroeconomic assessment, Policy effectiveness,  Climate Change '\n",
      "              'impacts'),\n",
      "             ('SSP', 'NA'),\n",
      "             ('RCP', 'NA'),\n",
      "             ('GCM', 'NA'),\n",
      "             ('Variables and units', 'GDP    % change respect to baseline'),\n",
      "             ('Time start', 'NA'),\n",
      "             ('Time end', 'NA'),\n",
      "             ('Time resolution', 'NA'),\n",
      "             ('Spatial coverage', 'Global'),\n",
      "             ('Spatial resolution unit Europe', 'NUTS2 2013'),\n",
      "             ('Spatial resolution Rest of World', '18 countries/macro-regions'),\n",
      "             ('Spatial projection', 'NA'),\n",
      "             ('Data type', ''),\n",
      "             ('File format', '.xls'),\n",
      "             ('Recommended citation',\n",
      "              'Van der Wijst et al., (2021). D24.3.Macroeconomic assessment of '\n",
      "              'policy effectiveness. Deliverable of the H2020 COACCH project.'),\n",
      "             ('Other comments',\n",
      "              'The data reports the parameters for reduced-form Damage '\n",
      "              'Functions (DFs) for the IAMs IMAGE, REMIND,  WITCH and ICES '\n",
      "              'models.')])\n"
     ]
    }
   ],
   "source": [
    "with open(meta_file_name, newline='') as csvfile:\n",
    "    assert csv.Sniffer().has_header(csvfile.read(1024)) # must have a header\n",
    "    csvfile.seek(0)\n",
    "    dialect = csv.Sniffer().sniff(csvfile.read(1024))\n",
    "    csvfile.seek(0)\n",
    "    reader = csv.DictReader(csvfile, dialect=dialect)\n",
    "    first_row = None\n",
    "    for row in reader:\n",
    "        assert first_row is None # expect only one row\n",
    "        first_row = row\n",
    "    pprint(first_row)"
   ]
  },
  {
   "cell_type": "markdown",
   "id": "eef315ed",
   "metadata": {},
   "source": [
    "### Test"
   ]
  },
  {
   "cell_type": "code",
   "execution_count": 157,
   "id": "3d528016",
   "metadata": {},
   "outputs": [
    {
     "data": {
      "text/plain": [
       "['https://zenodo.org/api/files/cd6c851e-1d5a-4cce-93b6-fdb73d3f9e4f/Metadata%20damage%20functions%20T4.3.csv',\n",
       " 'https://zenodo.org/api/files/c5de69df-aafb-46ca-8e57-a8a2aeafa8ba/COACCH_ICES_MetaData-CMCC.csv',\n",
       " 'https://zenodo.org/api/files/ace61379-f532-4208-b241-091201337012/COACCH_MetaData_T2.6_CUNI.csv',\n",
       " 'https://zenodo.org/api/files/47e4e7fc-084d-4e22-83ef-59337a2f86a9/COACCH_MetaData_energy_demand.csv',\n",
       " 'https://zenodo.org/api/files/caa37be2-8cb3-4fa5-be8a-b4270581b143/COACCH_MetaData_WP2_4_Trade_and_Supply_Chain_Shocks.csv',\n",
       " 'https://zenodo.org/api/files/bbbc0e7e-dff8-4737-bd93-67da222b1478/metadata.csv',\n",
       " 'https://zenodo.org/api/files/d69d64c8-affa-4166-9635-d14660bdcd60/metadata.csv',\n",
       " 'https://zenodo.org/api/files/22c9648d-617e-4cd7-8a3b-fd85bb567dac/COACCH_MetaData.csv',\n",
       " 'https://zenodo.org/api/files/3399b37e-2171-44d9-8ba5-088474b03d69/COACCH_MetaData.csv',\n",
       " 'https://zenodo.org/api/files/0beb8030-0676-45fe-9134-3406d6116a73/T3.4_SETP_Food_MetaData.csv',\n",
       " 'https://zenodo.org/api/files/4406e796-3221-4985-925e-ea43cd89ac2f/ImpactChains_GLOBIOM_MetaData.csv',\n",
       " None]"
      ]
     },
     "execution_count": 157,
     "metadata": {},
     "output_type": "execute_result"
    }
   ],
   "source": [
    "meta_urls"
   ]
  }
 ],
 "metadata": {
  "kernelspec": {
   "display_name": "Python 3 (ipykernel)",
   "language": "python",
   "name": "python3"
  },
  "language_info": {
   "codemirror_mode": {
    "name": "ipython",
    "version": 3
   },
   "file_extension": ".py",
   "mimetype": "text/x-python",
   "name": "python",
   "nbconvert_exporter": "python",
   "pygments_lexer": "ipython3",
   "version": "3.7.10"
  }
 },
 "nbformat": 4,
 "nbformat_minor": 5
}
