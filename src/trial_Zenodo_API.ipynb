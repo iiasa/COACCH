{
 "cells": [
  {
   "cell_type": "markdown",
   "id": "4950f2f2",
   "metadata": {},
   "source": [
    "# Trial Zenodo API and processing of COACCH metadata"
   ]
  },
  {
   "cell_type": "code",
   "execution_count": null,
   "id": "9df71b82",
   "metadata": {},
   "outputs": [],
   "source": [
    "import unicodecsv as csv\n",
    "import io\n",
    "import os\n",
    "import pandas as pd\n",
    "import urllib\n",
    "import yaml\n",
    "\n",
    "from pprint import pprint\n",
    "from zenodo_helpers import *"
   ]
  },
  {
   "cell_type": "markdown",
   "id": "754845cc",
   "metadata": {},
   "source": [
    "### Query and check that we got all hits on the first page. List the IDs.\n",
    "\n",
    "The query string uses [elastic search syntax](https://www.elastic.co/guide/en/elasticsearch/reference/current/query-dsl-query-string-query.html#query-string-syntax)."
   ]
  },
  {
   "cell_type": "code",
   "execution_count": null,
   "id": "bd1e44cf",
   "metadata": {},
   "outputs": [],
   "source": [
    "query = \"Climate change impacts on energy demand\"\n",
    "hits_per_page = 100\n",
    "params = {\n",
    "    'q': urllib.parse.quote(query),\n",
    "    #'type': 'publication',\n",
    "    'type': 'dataset',\n",
    "    'communities': \"coacch-co-designing-the-assessment-of-climate-change-costs-h2020-project\",\n",
    "    'size': hits_per_page,\n",
    "    'page': 1,\n",
    "    'access_token': os.environ['ZENODO_API_TOKEN']\n",
    "}\n",
    "response = reget(\"https://zenodo.org/api/records\", params = params)\n",
    "assert response.status_code == 200 # success\n",
    "j = response.json()\n",
    "hits = j['hits']['hits']\n",
    "assert len(hits) < hits_per_page\n",
    "print(f\"{len(hits)} hits on the page.\")\n",
    "pprint([hit['id'] for hit in hits])"
   ]
  },
  {
   "cell_type": "markdown",
   "id": "1ca7efcc",
   "metadata": {},
   "source": [
    "### Pretty print first hit"
   ]
  },
  {
   "cell_type": "code",
   "execution_count": null,
   "id": "39b31f4d",
   "metadata": {},
   "outputs": [],
   "source": [
    "print(json.dumps(j['hits']['hits'][0], indent = 2))"
   ]
  },
  {
   "cell_type": "markdown",
   "id": "e5b6cd8d",
   "metadata": {},
   "source": [
    "### Get the URL of the DOI badge of the first hit"
   ]
  },
  {
   "cell_type": "code",
   "execution_count": null,
   "id": "a1d24e73",
   "metadata": {},
   "outputs": [],
   "source": [
    "hit = j['hits']['hits'][0]\n",
    "print(hit['id'])\n",
    "hit['links']['badge']"
   ]
  },
  {
   "cell_type": "markdown",
   "id": "09767ecc",
   "metadata": {},
   "source": [
    "### Download badge as an in-memory binary-file-like object"
   ]
  },
  {
   "cell_type": "code",
   "execution_count": null,
   "id": "7e60e99f",
   "metadata": {},
   "outputs": [],
   "source": [
    "r = reget(hit['links']['badge'])\n",
    "meta_data = io.BytesIO(r.content)\n",
    "r.content"
   ]
  }
 ],
 "metadata": {
  "kernelspec": {
   "display_name": "Python 3 (ipykernel)",
   "language": "python",
   "name": "python3"
  },
  "language_info": {
   "codemirror_mode": {
    "name": "ipython",
    "version": 3
   },
   "file_extension": ".py",
   "mimetype": "text/x-python",
   "name": "python",
   "nbconvert_exporter": "python",
   "pygments_lexer": "ipython3",
   "version": "3.7.10"
  }
 },
 "nbformat": 4,
 "nbformat_minor": 5
}
