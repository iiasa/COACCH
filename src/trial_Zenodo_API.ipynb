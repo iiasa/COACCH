{
 "cells": [
  {
   "cell_type": "markdown",
   "id": "4950f2f2",
   "metadata": {},
   "source": [
    "# Trial Zenodo API and processing of COACCH metadata"
   ]
  },
  {
   "cell_type": "code",
   "execution_count": 1,
   "id": "9df71b82",
   "metadata": {},
   "outputs": [],
   "source": [
    "import unicodecsv as csv\n",
    "import io\n",
    "import os\n",
    "import pandas as pd\n",
    "import urllib\n",
    "import yaml\n",
    "\n",
    "from pprint import pprint\n",
    "from zenodo_helpers import *"
   ]
  },
  {
   "cell_type": "markdown",
   "id": "754845cc",
   "metadata": {},
   "source": [
    "### Query and check that we got all hits on the first page. List the IDs.\n",
    "\n",
    "The query string uses [elastic search syntax](https://www.elastic.co/guide/en/elasticsearch/reference/current/query-dsl-query-string-query.html#query-string-syntax)."
   ]
  },
  {
   "cell_type": "code",
   "execution_count": 2,
   "id": "bd1e44cf",
   "metadata": {},
   "outputs": [
    {
     "name": "stdout",
     "output_type": "stream",
     "text": [
      "URL: https://zenodo.org/api/records, params:\n",
      "{\n",
      "    \"q\": \"Climate%20change%20impacts%20on%20energy%20demand\",\n",
      "    \"type\": \"dataset\",\n",
      "    \"communities\": \"coacch-co-designing-the-assessment-of-climate-change-costs-h2020-project\",\n",
      "    \"size\": 100,\n",
      "    \"page\": 1\n",
      "}\n",
      "13 hits on the page.\n",
      "[4733499,\n",
      " 5530146,\n",
      " 5546248,\n",
      " 5546264,\n",
      " 5541894,\n",
      " 5513871,\n",
      " 5530237,\n",
      " 5541337,\n",
      " 5529732,\n",
      " 5534190,\n",
      " 5529888,\n",
      " 5549953,\n",
      " 5541327]\n"
     ]
    }
   ],
   "source": [
    "query = \"Climate change impacts on energy demand\"\n",
    "hits_per_page = 100\n",
    "params = {\n",
    "    'q': urllib.parse.quote(query),\n",
    "    #'type': 'publication',\n",
    "    'type': 'dataset',\n",
    "    'communities': \"coacch-co-designing-the-assessment-of-climate-change-costs-h2020-project\",\n",
    "    'size': hits_per_page,\n",
    "    'page': 1,\n",
    "    'access_token': os.environ['ZENODO_API_TOKEN']\n",
    "}\n",
    "response = reget(\"https://zenodo.org/api/records\", params = params)\n",
    "assert response.status_code == 200 # success\n",
    "j = response.json()\n",
    "hits = j['hits']['hits']\n",
    "assert len(hits) < hits_per_page\n",
    "print(f\"{len(hits)} hits on the page.\")\n",
    "pprint([hit['id'] for hit in hits])"
   ]
  },
  {
   "cell_type": "markdown",
   "id": "1ca7efcc",
   "metadata": {},
   "source": [
    "### Pretty print first hit"
   ]
  },
  {
   "cell_type": "code",
   "execution_count": 3,
   "id": "39b31f4d",
   "metadata": {},
   "outputs": [
    {
     "name": "stdout",
     "output_type": "stream",
     "text": [
      "{\n",
      "  \"conceptdoi\": \"10.5281/zenodo.4733498\",\n",
      "  \"conceptrecid\": \"4733498\",\n",
      "  \"created\": \"2021-05-03T15:18:08.786942+00:00\",\n",
      "  \"doi\": \"10.5281/zenodo.4733499\",\n",
      "  \"files\": [\n",
      "    {\n",
      "      \"bucket\": \"cca08a1a-ad35-489a-8049-bfe951fda371\",\n",
      "      \"checksum\": \"md5:bf691c1dd7eae01fdfbaa63f5b5c028b\",\n",
      "      \"key\": \"Abadie et al_2020_Additional scenarios.xlsx\",\n",
      "      \"links\": {\n",
      "        \"self\": \"https://zenodo.org/api/files/cca08a1a-ad35-489a-8049-bfe951fda371/Abadie%20et%20al_2020_Additional%20scenarios.xlsx\"\n",
      "      },\n",
      "      \"size\": 549054,\n",
      "      \"type\": \"xlsx\"\n",
      "    }\n",
      "  ],\n",
      "  \"id\": 4733499,\n",
      "  \"links\": {\n",
      "    \"badge\": \"https://zenodo.org/badge/doi/10.5281/zenodo.4733499.svg\",\n",
      "    \"bucket\": \"https://zenodo.org/api/files/cca08a1a-ad35-489a-8049-bfe951fda371\",\n",
      "    \"conceptbadge\": \"https://zenodo.org/badge/doi/10.5281/zenodo.4733498.svg\",\n",
      "    \"conceptdoi\": \"https://doi.org/10.5281/zenodo.4733498\",\n",
      "    \"doi\": \"https://doi.org/10.5281/zenodo.4733499\",\n",
      "    \"html\": \"https://zenodo.org/record/4733499\",\n",
      "    \"latest\": \"https://zenodo.org/api/records/4733499\",\n",
      "    \"latest_html\": \"https://zenodo.org/record/4733499\",\n",
      "    \"self\": \"https://zenodo.org/api/records/4733499\"\n",
      "  },\n",
      "  \"metadata\": {\n",
      "    \"access_right\": \"open\",\n",
      "    \"access_right_category\": \"success\",\n",
      "    \"communities\": [\n",
      "      {\n",
      "        \"id\": \"coacch-co-designing-the-assessment-of-climate-change-costs-h2020-project\"\n",
      "      }\n",
      "    ],\n",
      "    \"creators\": [\n",
      "      {\n",
      "        \"affiliation\": \"BC3 Basque Centre for Climate Change\",\n",
      "        \"name\": \"Abadie, Luis M.\",\n",
      "        \"orcid\": \"0000-0002-2254-6800\"\n",
      "      },\n",
      "      {\n",
      "        \"affiliation\": \"Durham University\",\n",
      "        \"name\": \"Jackson, Luke P.\",\n",
      "        \"orcid\": \"0000-0001-6834-8255\"\n",
      "      },\n",
      "      {\n",
      "        \"affiliation\": \"BC3 Basque Centre for Climate Change\",\n",
      "        \"name\": \"Sainz de Murieta, Elisa\",\n",
      "        \"orcid\": \"0000-0001-8120-3392\"\n",
      "      },\n",
      "      {\n",
      "        \"affiliation\": \"Centre for Climate Research Singapore\",\n",
      "        \"name\": \"Jevrejeva, Svetlana\",\n",
      "        \"orcid\": \"0000-0001-9490-4665\"\n",
      "      },\n",
      "      {\n",
      "        \"affiliation\": \"BC3 Basque Centre for Climate Change\",\n",
      "        \"name\": \"Galarraga, Ibon\",\n",
      "        \"orcid\": \"0000-0002-2683-9360\"\n",
      "      }\n",
      "    ],\n",
      "    \"description\": \"<p>This dataset provides additional information to that included in:</p>\\n\\n<p>Abadie, L.M., Jackson, L.P., Sainz de Murieta, E., Jevrejeva, S., Galarraga, I., 2020. Comparing urban coastal flood risk in 136 cities under two alternative sea-level projections: RCP 8.5 and an expert opinion-based high-end scenario. Ocean &amp; Coastal Management 193, 105249. https://doi.org/10.1016/j.ocecoaman.2020.105249</p>\\n\\n<p>The file contains sea-level rise projections, expected damages and risk data for RCP4.5 and RCP2.6 additionally to the RCP8.5 and the High-end scenario provided in the aforementioned article. Also, we present the data for every decade from 2020 to 2100.</p>\",\n",
      "    \"doi\": \"10.5281/zenodo.4733499\",\n",
      "    \"grants\": [\n",
      "      {\n",
      "        \"acronym\": \"\",\n",
      "        \"code\": \"NE/P015107/1\",\n",
      "        \"funder\": {\n",
      "          \"acronyms\": [],\n",
      "          \"doi\": \"10.13039/501100000690\",\n",
      "          \"links\": {\n",
      "            \"self\": \"https://zenodo.org/api/funders/10.13039/501100000690\"\n",
      "          },\n",
      "          \"name\": \"Research Councils UK\"\n",
      "        },\n",
      "        \"links\": {\n",
      "          \"self\": \"https://zenodo.org/api/grants/10.13039/501100000690::NE/P015107/1\"\n",
      "        },\n",
      "        \"program\": \"NERC\",\n",
      "        \"title\": \"Sea level rise trajectories by 2200 with warmings of 1.5 to 2 degree C\"\n",
      "      },\n",
      "      {\n",
      "        \"acronym\": \"COACCH\",\n",
      "        \"code\": \"776479\",\n",
      "        \"funder\": {\n",
      "          \"acronyms\": [],\n",
      "          \"doi\": \"10.13039/501100000780\",\n",
      "          \"links\": {\n",
      "            \"self\": \"https://zenodo.org/api/funders/10.13039/501100000780\"\n",
      "          },\n",
      "          \"name\": \"European Commission\"\n",
      "        },\n",
      "        \"links\": {\n",
      "          \"self\": \"https://zenodo.org/api/grants/10.13039/501100000780::776479\"\n",
      "        },\n",
      "        \"program\": \"H2020\",\n",
      "        \"title\": \"CO-designing the Assessment of Climate CHange costs\"\n",
      "      }\n",
      "    ],\n",
      "    \"keywords\": [\n",
      "      \"Regional sea-level rise\",\n",
      "      \"Probabilistic projections\",\n",
      "      \"Coastal cities\",\n",
      "      \"Damage risk\",\n",
      "      \"Ice-sheet melting risk\",\n",
      "      \"Unmitigated scenarios\"\n",
      "    ],\n",
      "    \"license\": {\n",
      "      \"id\": \"CC-BY-4.0\"\n",
      "    },\n",
      "    \"notes\": \"This work was developed thanks to the financial support received under the following grants and research projects:\\n\\nL.M.A. is grateful for financial support from the Science and Innovation Ministry of Spain (MINECO RTI2018-093352-B-I00). L.P.J. acknowledges funding from the Robertson Foundation for Climate Econometrics (Grant Numbers: 9907422 and 9908921). E.S.M. acknowledges funding from the Basque Government (Postdoctoral Fellowship grant no. POS_2018_2_0027). I.G. was funded by the European Union's Horizon 2020 Research and Innovation Programme under grant agreement no. 776479. L.M.A, E.S.M. and I.G. acknowledge support from the Basque Government through the BERC 2018-2021 programme and from the Spanish Ministry of the Economy and Competitiveness (MINECO) through BC3 Mar\\u00eda de Maeztu excellence accreditation (MDM-2017-0714). S.J. was funded by the Natural Environmental Research Council under Grant Agreement No. NE/P015107/1.\",\n",
      "    \"publication_date\": \"2021-05-03\",\n",
      "    \"related_identifiers\": [\n",
      "      {\n",
      "        \"identifier\": \"10.1016/j.ocecoaman.2020.105249\",\n",
      "        \"relation\": \"isSupplementTo\",\n",
      "        \"resource_type\": \"publication-article\",\n",
      "        \"scheme\": \"doi\"\n",
      "      },\n",
      "      {\n",
      "        \"identifier\": \"10.5281/zenodo.4733498\",\n",
      "        \"relation\": \"isVersionOf\",\n",
      "        \"scheme\": \"doi\"\n",
      "      }\n",
      "    ],\n",
      "    \"relations\": {\n",
      "      \"version\": [\n",
      "        {\n",
      "          \"count\": 1,\n",
      "          \"index\": 0,\n",
      "          \"is_last\": true,\n",
      "          \"last_child\": {\n",
      "            \"pid_type\": \"recid\",\n",
      "            \"pid_value\": \"4733499\"\n",
      "          },\n",
      "          \"parent\": {\n",
      "            \"pid_type\": \"recid\",\n",
      "            \"pid_value\": \"4733498\"\n",
      "          }\n",
      "        }\n",
      "      ]\n",
      "    },\n",
      "    \"resource_type\": {\n",
      "      \"title\": \"Dataset\",\n",
      "      \"type\": \"dataset\"\n",
      "    },\n",
      "    \"title\": \"Additional dataset to \\\"Comparing urban coastal flood risk in 136 cities under two alternative sea-level projections: RCP 8.5 and an expert opinion-based high-end scenario\\\"\"\n",
      "  },\n",
      "  \"owners\": [\n",
      "    28393\n",
      "  ],\n",
      "  \"revision\": 5,\n",
      "  \"stats\": {\n",
      "    \"downloads\": 6.0,\n",
      "    \"unique_downloads\": 6.0,\n",
      "    \"unique_views\": 36.0,\n",
      "    \"version_downloads\": 6.0,\n",
      "    \"version_unique_downloads\": 6.0,\n",
      "    \"version_unique_views\": 36.0,\n",
      "    \"version_views\": 44.0,\n",
      "    \"version_volume\": 3294324.0,\n",
      "    \"views\": 44.0,\n",
      "    \"volume\": 3294324.0\n",
      "  },\n",
      "  \"updated\": \"2021-09-17T14:51:12.806589+00:00\"\n",
      "}\n"
     ]
    }
   ],
   "source": [
    "print(json.dumps(j['hits']['hits'][0], indent = 2))"
   ]
  },
  {
   "cell_type": "markdown",
   "id": "e5b6cd8d",
   "metadata": {},
   "source": [
    "### Get the URL of the DOI badge of the first hit"
   ]
  },
  {
   "cell_type": "code",
   "execution_count": 6,
   "id": "e9f181e6",
   "metadata": {},
   "outputs": [
    {
     "name": "stdout",
     "output_type": "stream",
     "text": [
      "4733499\n"
     ]
    },
    {
     "data": {
      "text/plain": [
       "'https://zenodo.org/badge/doi/10.5281/zenodo.4733499.svg'"
      ]
     },
     "execution_count": 6,
     "metadata": {},
     "output_type": "execute_result"
    }
   ],
   "source": [
    "hit = j['hits']['hits'][0]\n",
    "print(hit['id'])\n",
    "hit['links']['badge']"
   ]
  },
  {
   "cell_type": "markdown",
   "id": "09767ecc",
   "metadata": {},
   "source": [
    "### Download meta data as an in-memory binary-file-like object"
   ]
  },
  {
   "cell_type": "code",
   "execution_count": 7,
   "id": "7e60e99f",
   "metadata": {},
   "outputs": [
    {
     "name": "stdout",
     "output_type": "stream",
     "text": [
      "URL: https://zenodo.org/badge/doi/10.5281/zenodo.4733499.svg\n"
     ]
    },
    {
     "data": {
      "text/plain": [
       "b'<svg xmlns=\"http://www.w3.org/2000/svg\"\\n     width=\"186\" height=\"20\">\\n        <linearGradient id=\"b\" x2=\"0\" y2=\"100%\">\\n            <stop offset=\"0\" stop-color=\"#bbb\" stop-opacity=\".1\"/>\\n            <stop offset=\"1\" stop-opacity=\".1\"/>\\n        </linearGradient>\\n        <mask id=\"a\" width=\"186\" height=\"20\">\\n            <rect width=\"186\" height=\"20\" rx=\"3\"\\n            fill=\"#fff\"/>\\n        </mask>\\n        <g mask=\"url(#a)\">\\n            <path fill=\"#555\" d=\"M0 0h31v20H0z\" />\\n            <path fill=\"#007ec6\"\\n            d=\"M31 0h155v20H31z\"\\n            />\\n            <path fill=\"url(#b)\" d=\"M0 0h186v20H0z\" />\\n        </g>\\n        <g fill=\"#fff\" text-anchor=\"middle\" font-family=\"DejaVu Sans,\\n        Verdana,Geneva,sans-serif\" font-size=\"11\">\\n            <text x=\"16\" y=\"15\" fill=\"#010101\"\\n            fill-opacity=\".3\">\\n                DOI\\n            </text>\\n            <text x=\"16\" y=\"14\">\\n                DOI\\n            </text>\\n            <text x=\"108\"\\n            y=\"15\" fill=\"#010101\" fill-opacity=\".3\">\\n                10.5281/zenodo.4733499\\n            </text>\\n            <text x=\"108\" y=\"14\">\\n                10.5281/zenodo.4733499\\n            </text>\\n        </g>\\n    </svg>'"
      ]
     },
     "execution_count": 7,
     "metadata": {},
     "output_type": "execute_result"
    }
   ],
   "source": [
    "r = reget(hit['links']['badge'])\n",
    "meta_data = io.BytesIO(r.content)\n",
    "r.content"
   ]
  }
 ],
 "metadata": {
  "kernelspec": {
   "display_name": "Python 3 (ipykernel)",
   "language": "python",
   "name": "python3"
  },
  "language_info": {
   "codemirror_mode": {
    "name": "ipython",
    "version": 3
   },
   "file_extension": ".py",
   "mimetype": "text/x-python",
   "name": "python",
   "nbconvert_exporter": "python",
   "pygments_lexer": "ipython3",
   "version": "3.7.10"
  }
 },
 "nbformat": 4,
 "nbformat_minor": 5
}
